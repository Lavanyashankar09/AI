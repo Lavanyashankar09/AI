{
 "cells": [
  {
   "cell_type": "markdown",
   "metadata": {},
   "source": [
    "# Artificial Intelligence\n",
    "# 464\n",
    "# Assignment #2\n",
    "\n",
    "## General Directions for this Assignment\n",
    "\n",
    "00. We're using a Jupyter Notebook environment (tutorial available here: https://jupyter-notebook-beginner-guide.readthedocs.io/en/latest/what_is_jupyter.html),\n",
    "01. Read the entire notebook before beginning your work, \n",
    "02. Output format should be exactly as requested, \n",
    "03. Each helper function should be preceeded by documentation (Markdown cell),\n",
    "05. No comments in the code; anything worth mentioning should be included in the documentation,\n",
    "06. Keep functions to 20 lines or less (including empty lines so do not add any),\n",
    "08. Use descriptive variable names,\n",
    "09. Functions should do only one thing,\n",
    "10. Check submission deadline on Gradescope, \n",
    "11. Rename the file to Last_First_assignment_2, \n",
    "12. Submit your notebook (as .ipynb, not PDF) using Gradescope, and\n",
    "13. Do not submit any other files.\n",
    "\n",
    "\n",
    "## Directions _not_ applicable for this Assignment:\n",
    "* Do not use classes,\n",
    "* Each helper function should be followed by three assert-style unit tests.\n",
    "\n",
    "\n",
    "## Before You Submit...\n",
    "\n",
    "1. Re-read the general instructions provided above, and\n",
    "2. Hit \"Kernel\"->\"Restart & Run All\"."
   ]
  },
  {
   "cell_type": "markdown",
   "metadata": {},
   "source": [
    "## The World\n",
    "\n",
    "A `List of Lists` is used to represent the world. Cells marked as '⬛' are obstacles in the world and are not traversable."
   ]
  },
  {
   "cell_type": "code",
   "execution_count": 1,
   "metadata": {},
   "outputs": [],
   "source": [
    "world = [\n",
    "['⬜','⬜','⬜','⬜','⬜','⬜','⬜','⬜','⬜','⬜','⬜','⬜','⬜','⬜','⬜','⬜','⬜','⬜','⬜','⬜','⬜'],\n",
    "['⬜','⬜','⬜','⬜','⬜','⬜','⬜','⬜','⬜','⬜','⬜','⬜','⬜','⬜','⬜','⬜','⬜','⬜','⬜','⬜','⬜'],\n",
    "['⬜','⬜','⬜','⬜','⬜','⬜','⬜','⬜','⬜','⬜','⬜','⬜','⬜','⬜','⬜','⬜','⬜','⬜','⬜','⬜','⬜'],\n",
    "['⬜','⬜','⬜','⬜','⬜','⬜','⬜','⬜','⬜','⬜','⬜','⬜','⬜','⬜','⬜','⬜','⬜','⬜','⬜','⬜','⬜'],\n",
    "['⬜','⬜','⬜','⬜','⬜','⬜','⬜','⬜','⬜','⬜','⬜','⬜','⬜','⬜','⬜','⬜','⬜','⬜','⬜','⬜','⬜'],\n",
    "['⬜','⬜','⬜','⬜','⬜','⬜','⬜','⬜','⬜','⬜','⬜','⬜','⬜','⬜','⬜','⬜','⬜','⬜','⬜','⬜','⬜'],\n",
    "['⬜','⬜','⬜','⬜','⬜','⬜','⬜','⬜','⬜','⬜','⬜','⬜','⬜','⬜','⬜','⬜','⬜','⬜','⬜','⬜','⬜'],\n",
    "['⬜','⬜','⬜','⬜','⬜','⬜','⬜','⬜','⬜','⬜','⬜','⬜','⬜','⬜','⬜','⬜','⬜','⬜','⬜','⬜','⬜'],\n",
    "['⬜','⬜','⬜','⬜','⬜','⬜','⬜','⬜','⬜','⬜','⬜','⬜','⬜','⬜','⬜','⬜','⬜','⬜','⬜','⬜','⬜'],\n",
    "['⬜','⬜','⬜','⬜','⬜','⬜','⬜','⬜','⬜','⬛','⬛','⬛','⬜','⬜','⬜','⬜','⬜','⬜','⬜','⬜','⬜'],\n",
    "['⬜','⬜','⬜','⬜','⬜','⬜','⬜','⬜','⬜','⬛','⬛','⬛','⬜','⬜','⬜','⬜','⬜','⬜','⬜','⬜','⬜'],\n",
    "['⬜','⬜','⬜','⬜','⬜','⬜','⬜','⬜','⬜','⬛','⬛','⬛','⬜','⬜','⬜','⬜','⬜','⬜','⬜','⬜','⬜'],\n",
    "['⬜','⬜','⬜','⬜','⬜','⬜','⬜','⬜','⬜','⬜','⬜','⬜','⬜','⬜','⬜','⬜','⬜','⬜','⬜','⬜','⬜'],\n",
    "['⬜','⬜','⬜','⬜','⬜','⬜','⬜','⬜','⬜','⬜','⬜','⬜','⬜','⬜','⬜','⬜','⬜','⬜','⬜','⬜','⬜'],\n",
    "['⬜','⬜','⬜','⬜','⬜','⬜','⬜','⬜','⬜','⬜','⬜','⬜','⬜','⬜','⬜','⬜','⬜','⬜','⬜','⬜','⬜'],\n",
    "['⬜','⬜','⬜','⬜','⬜','⬜','⬜','⬜','⬜','⬜','⬜','⬜','⬜','⬜','⬜','⬜','⬜','⬜','⬜','⬜','⬜'],\n",
    "['⬜','⬜','⬜','⬜','⬜','⬜','⬜','⬜','⬜','⬜','⬜','⬜','⬜','⬜','⬜','⬜','⬜','⬜','⬜','⬜','⬜'],\n",
    "['⬜','⬜','⬜','⬜','⬜','⬜','⬜','⬜','⬜','⬜','⬜','⬜','⬜','⬜','⬜','⬜','⬜','⬜','⬜','⬜','⬜'],\n",
    "['⬜','⬜','⬜','⬜','⬜','⬜','⬜','⬜','⬜','⬜','⬜','⬜','⬜','⬜','⬜','⬜','⬜','⬜','⬜','⬜','⬜'],\n",
    "['⬜','⬜','⬜','⬜','⬜','⬜','⬜','⬜','⬜','⬜','⬜','⬜','⬜','⬜','⬜','⬜','⬜','⬜','⬜','⬜','⬜'],\n",
    "['⬜','⬜','⬜','⬜','⬜','⬜','⬜','⬜','⬜','⬜','⬜','⬜','⬜','⬜','⬜','⬜','⬜','⬜','⬜','⬜','⬜']]"
   ]
  },
  {
   "cell_type": "code",
   "execution_count": 2,
   "metadata": {},
   "outputs": [
    {
     "name": "stdout",
     "output_type": "stream",
     "text": [
      "⬜⬜⬜⬜⬜⬜⬜⬜⬜⬜⬜⬜⬜⬜⬜⬜⬜⬜⬜⬜⬜\n",
      "⬜⬜⬜⬜⬜⬜⬜⬜⬜⬜⬜⬜⬜⬜⬜⬜⬜⬜⬜⬜⬜\n",
      "⬜⬜⬜⬜⬜⬜⬜⬜⬜⬜⬜⬜⬜⬜⬜⬜⬜⬜⬜⬜⬜\n",
      "⬜⬜⬜⬜⬜⬜⬜⬜⬜⬜⬜⬜⬜⬜⬜⬜⬜⬜⬜⬜⬜\n",
      "⬜⬜⬜⬜⬜⬜⬜⬜⬜⬜⬜⬜⬜⬜⬜⬜⬜⬜⬜⬜⬜\n",
      "⬜⬜⬜⬜⬜⬜⬜⬜⬜⬜⬜⬜⬜⬜⬜⬜⬜⬜⬜⬜⬜\n",
      "⬜⬜⬜⬜⬜⬜⬜⬜⬜⬜⬜⬜⬜⬜⬜⬜⬜⬜⬜⬜⬜\n",
      "⬜⬜⬜⬜⬜⬜⬜⬜⬜⬜⬜⬜⬜⬜⬜⬜⬜⬜⬜⬜⬜\n",
      "⬜⬜⬜⬜⬜⬜⬜⬜⬜⬜⬜⬜⬜⬜⬜⬜⬜⬜⬜⬜⬜\n",
      "⬜⬜⬜⬜⬜⬜⬜⬜⬜⬛⬛⬛⬜⬜⬜⬜⬜⬜⬜⬜⬜\n",
      "⬜⬜⬜⬜⬜⬜⬜⬜⬜⬛⬛⬛⬜⬜⬜⬜⬜⬜⬜⬜⬜\n",
      "⬜⬜⬜⬜⬜⬜⬜⬜⬜⬛⬛⬛⬜⬜⬜⬜⬜⬜⬜⬜⬜\n",
      "⬜⬜⬜⬜⬜⬜⬜⬜⬜⬜⬜⬜⬜⬜⬜⬜⬜⬜⬜⬜⬜\n",
      "⬜⬜⬜⬜⬜⬜⬜⬜⬜⬜⬜⬜⬜⬜⬜⬜⬜⬜⬜⬜⬜\n",
      "⬜⬜⬜⬜⬜⬜⬜⬜⬜⬜⬜⬜⬜⬜⬜⬜⬜⬜⬜⬜⬜\n",
      "⬜⬜⬜⬜⬜⬜⬜⬜⬜⬜⬜⬜⬜⬜⬜⬜⬜⬜⬜⬜⬜\n",
      "⬜⬜⬜⬜⬜⬜⬜⬜⬜⬜⬜⬜⬜⬜⬜⬜⬜⬜⬜⬜⬜\n",
      "⬜⬜⬜⬜⬜⬜⬜⬜⬜⬜⬜⬜⬜⬜⬜⬜⬜⬜⬜⬜⬜\n",
      "⬜⬜⬜⬜⬜⬜⬜⬜⬜⬜⬜⬜⬜⬜⬜⬜⬜⬜⬜⬜⬜\n",
      "⬜⬜⬜⬜⬜⬜⬜⬜⬜⬜⬜⬜⬜⬜⬜⬜⬜⬜⬜⬜⬜\n",
      "⬜⬜⬜⬜⬜⬜⬜⬜⬜⬜⬜⬜⬜⬜⬜⬜⬜⬜⬜⬜⬜\n"
     ]
    }
   ],
   "source": [
    "# A nicer view of the world, without commas and brackets\n",
    "for row in world:\n",
    "    print(\"\".join(row))"
   ]
  },
  {
   "cell_type": "markdown",
   "metadata": {},
   "source": [
    "## Robot\n",
    "\n",
    "Our robot '🤖' starts at the bottom left and can either move up, down, left, or right. It needs to get to the '❤️' in the world. Unlike the previous assignment, the robot now knows where the heart is."
   ]
  },
  {
   "cell_type": "code",
   "execution_count": 3,
   "metadata": {},
   "outputs": [],
   "source": [
    "MOVES = [(0,-1), (1,0), (0,1), (-1,0)]"
   ]
  },
  {
   "cell_type": "code",
   "execution_count": 4,
   "metadata": {},
   "outputs": [],
   "source": [
    "good_start = (len(world)-1, 0)"
   ]
  },
  {
   "cell_type": "code",
   "execution_count": 5,
   "metadata": {},
   "outputs": [],
   "source": [
    "goal = (0, len(world)-1)"
   ]
  },
  {
   "cell_type": "markdown",
   "metadata": {},
   "source": [
    "## Bad Robot\n",
    "\n",
    "And unlike the previous assignment, we have a bad robot '👾', too, that starts at the bottom right and can also move either up, down, left, or right. It wants to zap our robot. The zapper range isn't that great, so our robot is considered zapped if it is anywhere in a 3x3 cell centered at the bad robot."
   ]
  },
  {
   "cell_type": "code",
   "execution_count": 6,
   "metadata": {},
   "outputs": [],
   "source": [
    "bad_start = (len(world)-1, len(world)-1)"
   ]
  },
  {
   "cell_type": "code",
   "execution_count": 7,
   "metadata": {},
   "outputs": [],
   "source": [
    "# Update the world with this information\n",
    "world[good_start[0]][good_start[1]] = '🤖'\n",
    "world[goal[0]][goal[1]] = '❤️'\n",
    "world[bad_start[0]][bad_start[1]] = '👾'"
   ]
  },
  {
   "cell_type": "code",
   "execution_count": 8,
   "metadata": {},
   "outputs": [
    {
     "name": "stdout",
     "output_type": "stream",
     "text": [
      "⬜⬜⬜⬜⬜⬜⬜⬜⬜⬜⬜⬜⬜⬜⬜⬜⬜⬜⬜⬜❤️\n",
      "⬜⬜⬜⬜⬜⬜⬜⬜⬜⬜⬜⬜⬜⬜⬜⬜⬜⬜⬜⬜⬜\n",
      "⬜⬜⬜⬜⬜⬜⬜⬜⬜⬜⬜⬜⬜⬜⬜⬜⬜⬜⬜⬜⬜\n",
      "⬜⬜⬜⬜⬜⬜⬜⬜⬜⬜⬜⬜⬜⬜⬜⬜⬜⬜⬜⬜⬜\n",
      "⬜⬜⬜⬜⬜⬜⬜⬜⬜⬜⬜⬜⬜⬜⬜⬜⬜⬜⬜⬜⬜\n",
      "⬜⬜⬜⬜⬜⬜⬜⬜⬜⬜⬜⬜⬜⬜⬜⬜⬜⬜⬜⬜⬜\n",
      "⬜⬜⬜⬜⬜⬜⬜⬜⬜⬜⬜⬜⬜⬜⬜⬜⬜⬜⬜⬜⬜\n",
      "⬜⬜⬜⬜⬜⬜⬜⬜⬜⬜⬜⬜⬜⬜⬜⬜⬜⬜⬜⬜⬜\n",
      "⬜⬜⬜⬜⬜⬜⬜⬜⬜⬜⬜⬜⬜⬜⬜⬜⬜⬜⬜⬜⬜\n",
      "⬜⬜⬜⬜⬜⬜⬜⬜⬜⬛⬛⬛⬜⬜⬜⬜⬜⬜⬜⬜⬜\n",
      "⬜⬜⬜⬜⬜⬜⬜⬜⬜⬛⬛⬛⬜⬜⬜⬜⬜⬜⬜⬜⬜\n",
      "⬜⬜⬜⬜⬜⬜⬜⬜⬜⬛⬛⬛⬜⬜⬜⬜⬜⬜⬜⬜⬜\n",
      "⬜⬜⬜⬜⬜⬜⬜⬜⬜⬜⬜⬜⬜⬜⬜⬜⬜⬜⬜⬜⬜\n",
      "⬜⬜⬜⬜⬜⬜⬜⬜⬜⬜⬜⬜⬜⬜⬜⬜⬜⬜⬜⬜⬜\n",
      "⬜⬜⬜⬜⬜⬜⬜⬜⬜⬜⬜⬜⬜⬜⬜⬜⬜⬜⬜⬜⬜\n",
      "⬜⬜⬜⬜⬜⬜⬜⬜⬜⬜⬜⬜⬜⬜⬜⬜⬜⬜⬜⬜⬜\n",
      "⬜⬜⬜⬜⬜⬜⬜⬜⬜⬜⬜⬜⬜⬜⬜⬜⬜⬜⬜⬜⬜\n",
      "⬜⬜⬜⬜⬜⬜⬜⬜⬜⬜⬜⬜⬜⬜⬜⬜⬜⬜⬜⬜⬜\n",
      "⬜⬜⬜⬜⬜⬜⬜⬜⬜⬜⬜⬜⬜⬜⬜⬜⬜⬜⬜⬜⬜\n",
      "⬜⬜⬜⬜⬜⬜⬜⬜⬜⬜⬜⬜⬜⬜⬜⬜⬜⬜⬜⬜⬜\n",
      "🤖⬜⬜⬜⬜⬜⬜⬜⬜⬜⬜⬜⬜⬜⬜⬜⬜⬜⬜⬜👾\n"
     ]
    }
   ],
   "source": [
    "# A nicer view of the world, without commas and brackets\n",
    "for row in world:\n",
    "    print(\"\".join(row))"
   ]
  },
  {
   "cell_type": "markdown",
   "metadata": {},
   "source": [
    "## Game\n",
    "\n",
    "* We have two players: our original good robot and the new bad robot '👾'\n",
    "* At each turn of the game, a player gets to move in the world\n",
    "* Players only get to move according to `MOVES`\n",
    "* '⬛' are obstacles that neither robot can traverse\n",
    "* Each player knows the other player's current location\n",
    "* '🤖' wants to get to the '❤️' without being zapped\n",
    "* '👾' is trying to zap '🤖'\n",
    "* '🤖' wins if it gets to the '❤️'\n",
    "* '👾' wins if it zaps the good robot\n",
    "* The game is over when either player wins or we've reached 82 plies (41 good robot moves and 41 bad robot moves)"
   ]
  },
  {
   "cell_type": "markdown",
   "metadata": {},
   "source": [
    "## Adversarial Search\n",
    "\n",
    "\n",
    "The MINIMAX pseudocode is as follows:\n",
    "\n",
    "```\n",
    "MINIMAX(state) returns action\n",
    "    return argmax action in Actions MIN-VALUE(RESULT(state,action))\n",
    "    \n",
    "\n",
    "MAX-VALUE(state) returns value\n",
    "if TERMINAL(state) return UTILITY(state)\n",
    "v <- -inf\n",
    "for each action in Actions(state)\n",
    "    v <- MAX(v, MIN-VALUE(RESULT(state, action))\n",
    "return v\n",
    "\n",
    "\n",
    "MIN-VALUE(state) returns value\n",
    "if TERMINAL(state) return UTILITY(state)\n",
    "v <- +inf\n",
    "for each action in Actions(state)\n",
    "    v <- MIN(v, MAX-VALUE(RESULT(state, action))\n",
    "return v\n",
    "```\n",
    "\n",
    "MINIMAX is used to model the opponent as a rational player that will also try it's best to win. When moves are simulated in the tree, that's just what they are, simulations. The actual board only changes once MINIMAX returns an action. You will probably need to maintain a deep copy of the world. Instead of going all the way to terminal nodes, use a depth parameter."
   ]
  },
  {
   "cell_type": "markdown",
   "metadata": {},
   "source": [
    "## Problem #1\n",
    "\n",
    "\n",
    "Implement the game: players, actions, scores, keeping track of turns, when the game is over, how the world changes, and what strategy each player uses (random moves or MINIMAX). \n",
    "* '🤖' will use MINIMAX with a depth of 2 (simulate I move and then my opponent moves -- that's it) \n",
    "* '👾' will choose actions at random. \n",
    "* '🤖' utility function = Euclidean distance to '👾' - Euclidean distance to '❤️' (cares about getting to '❤️' and not being zapped by '👾') \n",
    "* '👾' utility function = - Euclidean distance to '🤖' (just cares about zapping '🤖')\n",
    "\n",
    "\n",
    "When the game is over, print out the world (nicer view) with the following changes:\n",
    "* Replace a '⬜' with '🟥' to indicate the path of '👾', \n",
    "* Replace '⬜' with '🟩' to indicate the path of '🤖', and\n",
    "* '🤖', '👾', '❤️', and '⬛' are not replaced."
   ]
  },
  {
   "cell_type": "code",
   "execution_count": 9,
   "metadata": {},
   "outputs": [],
   "source": [
    "# Your documentation, code, and tests start here.\n",
    "import math\n",
    "import random\n",
    "from copy import deepcopy"
   ]
  },
  {
   "cell_type": "markdown",
   "metadata": {},
   "source": [
    "<a id=\"euclidean_distance\"></a>\n",
    "## euclidean_distance\n",
    "\n",
    "Calculate the Euclidean distance between two points.\n",
    "\n",
    "* **arg_1** tuple: `(x1, y1)` - Coordinates of the first point.\n",
    "* **arg_2** tuple: `(x2, y2)` - Coordinates of the second point.\n",
    "\n",
    "**returns** \n",
    "\n",
    "* **distance** float: The Euclidean distance between the two points.\n"
   ]
  },
  {
   "cell_type": "code",
   "execution_count": 10,
   "metadata": {},
   "outputs": [],
   "source": [
    "def euclidean_distance(pos, goal):\n",
    "    return math.sqrt((pos[0] - goal[0])**2 + (pos[1] - goal[1])**2)"
   ]
  },
  {
   "cell_type": "code",
   "execution_count": 11,
   "metadata": {},
   "outputs": [],
   "source": [
    "assert euclidean_distance((0, 0), (3, 4)) == 5.0  \n",
    "assert euclidean_distance((1, 1), (1, 1)) == 0.0  \n",
    "assert euclidean_distance((1, 2), (4, 6)) == 5.0"
   ]
  },
  {
   "cell_type": "markdown",
   "metadata": {},
   "source": [
    "<a id=\"utility_good_robot\"></a>\n",
    "## utility_good_robot\n",
    "\n",
    "Calculate the utility of a good robot based on its position relative to a bad robot and a goal.\n",
    "\n",
    "* **arg_1** tuple: `(gx, gy)` - Coordinates of the good robot.\n",
    "* **arg_2** tuple: `(bx, by)` - Coordinates of the bad robot.\n",
    "* **arg_3** tuple: `(gx, gy)` - Coordinates of the goal.\n",
    "\n",
    "**returns** \n",
    "\n",
    "* **utility** float: The utility value, calculated as the difference in distances between the bad robot and the good robot, and the good robot and the goal.\n"
   ]
  },
  {
   "cell_type": "code",
   "execution_count": 12,
   "metadata": {},
   "outputs": [],
   "source": [
    "def utility_good_robot(robot_pos, goal_pos, opponent_pos):\n",
    "    return euclidean_distance(robot_pos, opponent_pos) - euclidean_distance(robot_pos, goal_pos)\n"
   ]
  },
  {
   "cell_type": "code",
   "execution_count": null,
   "metadata": {},
   "outputs": [],
   "source": []
  },
  {
   "cell_type": "markdown",
   "metadata": {},
   "source": [
    "<a id=\"utility_bad_robot\"></a>\n",
    "## utility_bad_robot\n",
    "\n",
    "Calculate the utility of a bad robot based on its position relative to a good robot.\n",
    "\n",
    "* **arg_1** tuple: `(bx, by)` - Coordinates of the bad robot.\n",
    "* **arg_2** tuple: `(gx, gy)` - Coordinates of the good robot.\n",
    "* **arg_3** tuple: `(gx, gy)` - Coordinates of the goal (not used in the calculation).\n",
    "\n",
    "**returns** \n",
    "\n",
    "* **utility** float: The utility value, calculated as the negative distance from the good robot to the bad robot.\n"
   ]
  },
  {
   "cell_type": "code",
   "execution_count": 14,
   "metadata": {},
   "outputs": [],
   "source": [
    "def utility_bad_robot(robot_pos, opponent_pos):\n",
    "    return - euclidean_distance(robot_pos, opponent_pos)"
   ]
  },
  {
   "cell_type": "code",
   "execution_count": 16,
   "metadata": {},
   "outputs": [],
   "source": [
    "def utility_bad_robot_goal(robot_pos, opponent_pos, goal_pos):\n",
    "    return - euclidean_distance(robot_pos, goal_pos) - euclidean_distance(robot_pos, opponent_pos)"
   ]
  },
  {
   "cell_type": "code",
   "execution_count": 17,
   "metadata": {},
   "outputs": [],
   "source": [
    "def cal_evaluate(role, start, goal, opponent, bad_evaluate_arg = 'opponent_oriented'):\n",
    "    if role == True:\n",
    "        return evaluate(start, goal, opponent),start\n",
    "    elif bad_evaluate_arg == 'opponent_oriented':\n",
    "        # print(f'start:{start}, opponent:{opponent}')\n",
    "        return utility_bad_robot(start, opponent), start\n",
    "    else:\n",
    "        return utility_bad_robot_goal(start, opponent, goal), start            "
   ]
  },
  {
   "cell_type": "markdown",
   "metadata": {},
   "source": [
    "<a id=\"show\"></a>\n",
    "## show\n",
    "\n",
    "Display the world grid with symbols representing the positions of the good robot, bad robot, goal, and their respective paths.\n",
    "\n",
    "* **arg_1** list of list: `w` - A 2D list representing the world grid, where each cell can contain a character.\n",
    "* **arg_2** list of tuples: `gp` - A list of tuples representing the coordinates of the good robot's path.\n",
    "* **arg_3** list of tuples: `bp` - A list of tuples representing the coordinates of the bad robot's path.\n",
    "* **arg_4** tuple: `gs` - Coordinates of the good robot's starting position.\n",
    "* **arg_5** tuple: `bs` - Coordinates of the bad robot's starting position.\n",
    "* **arg_6** tuple: `g` - Coordinates of the goal.\n",
    "\n",
    "**returns** \n",
    "\n",
    "* **None**: The function prints the world grid to the console, using specific symbols for the good robot, bad robot, goal, and their paths.\n"
   ]
  },
  {
   "cell_type": "code",
   "execution_count": 18,
   "metadata": {},
   "outputs": [],
   "source": [
    "def show(world):\n",
    "    for row in world:\n",
    "        print(''.join(row))"
   ]
  },
  {
   "cell_type": "markdown",
   "metadata": {},
   "source": [
    "<a id=\"get_valid_moves\"></a>\n",
    "## find_valid_moves\n",
    "\n",
    "Determines all valid moves for the robot based on the current position and movement constraints.\n",
    "\n",
    "* **arg_1** list of list: `w` - A 2D list representing the world grid, where each cell can contain a character indicating the state of the cell.\n",
    "* **arg_2** list of tuples: `m` - A list of tuples representing the possible movement directions (e.g., [(1, 0), (-1, 0), (0, 1), (0, -1)]).\n",
    "* **arg_3** tuple: `c` - A tuple representing the current coordinates (x, y) of the robot.\n",
    "\n",
    "**returns** \n",
    "\n",
    "* **list of tuples**: A list of tuples representing the valid moves for the robot, where each tuple contains the new coordinates after making a move.\n"
   ]
  },
  {
   "cell_type": "code",
   "execution_count": 19,
   "metadata": {},
   "outputs": [],
   "source": [
    "def get_valid_moves(world, start):\n",
    "    legal_moves = []\n",
    "    for move in MOVES:\n",
    "        new_position = (start[0] + move[0], start[1] + move[1])\n",
    "        new_r, new_c = new_position\n",
    "        if 0 <= new_r < len(world) and 0 <= new_c < len(world[0]) and world[new_r][new_c] != '⬛':\n",
    "            legal_moves.append(new_position)\n",
    "    return legal_moves"
   ]
  },
  {
   "cell_type": "code",
   "execution_count": 20,
   "metadata": {},
   "outputs": [
    {
     "ename": "TypeError",
     "evalue": "get_valid_moves() takes 2 positional arguments but 3 were given",
     "output_type": "error",
     "traceback": [
      "\u001b[0;31m---------------------------------------------------------------------------\u001b[0m",
      "\u001b[0;31mTypeError\u001b[0m                                 Traceback (most recent call last)",
      "Cell \u001b[0;32mIn[20], line 7\u001b[0m\n\u001b[1;32m      1\u001b[0m test_world \u001b[38;5;241m=\u001b[39m [\n\u001b[1;32m      2\u001b[0m     [\u001b[38;5;124m'\u001b[39m\u001b[38;5;124m⬜\u001b[39m\u001b[38;5;124m'\u001b[39m, \u001b[38;5;124m'\u001b[39m\u001b[38;5;124m⬜\u001b[39m\u001b[38;5;124m'\u001b[39m, \u001b[38;5;124m'\u001b[39m\u001b[38;5;124m⬜\u001b[39m\u001b[38;5;124m'\u001b[39m],\n\u001b[1;32m      3\u001b[0m     [\u001b[38;5;124m'\u001b[39m\u001b[38;5;124m⬜\u001b[39m\u001b[38;5;124m'\u001b[39m, \u001b[38;5;124m'\u001b[39m\u001b[38;5;124m⬛\u001b[39m\u001b[38;5;124m'\u001b[39m, \u001b[38;5;124m'\u001b[39m\u001b[38;5;124m⬜\u001b[39m\u001b[38;5;124m'\u001b[39m],\n\u001b[1;32m      4\u001b[0m     [\u001b[38;5;124m'\u001b[39m\u001b[38;5;124m⬜\u001b[39m\u001b[38;5;124m'\u001b[39m, \u001b[38;5;124m'\u001b[39m\u001b[38;5;124m⬜\u001b[39m\u001b[38;5;124m'\u001b[39m, \u001b[38;5;124m'\u001b[39m\u001b[38;5;124m⬜\u001b[39m\u001b[38;5;124m'\u001b[39m]\n\u001b[1;32m      5\u001b[0m ]\n\u001b[1;32m      6\u001b[0m test_moves \u001b[38;5;241m=\u001b[39m [(\u001b[38;5;241m0\u001b[39m, \u001b[38;5;241m1\u001b[39m), (\u001b[38;5;241m1\u001b[39m, \u001b[38;5;241m0\u001b[39m), (\u001b[38;5;241m0\u001b[39m, \u001b[38;5;241m-\u001b[39m\u001b[38;5;241m1\u001b[39m), (\u001b[38;5;241m-\u001b[39m\u001b[38;5;241m1\u001b[39m, \u001b[38;5;241m0\u001b[39m)]\n\u001b[0;32m----> 7\u001b[0m \u001b[38;5;28;01massert\u001b[39;00m get_valid_moves(test_world, test_moves, (\u001b[38;5;241m0\u001b[39m, \u001b[38;5;241m0\u001b[39m)) \u001b[38;5;241m==\u001b[39m [(\u001b[38;5;241m0\u001b[39m, \u001b[38;5;241m1\u001b[39m), (\u001b[38;5;241m1\u001b[39m, \u001b[38;5;241m0\u001b[39m)]\n\u001b[1;32m      8\u001b[0m \u001b[38;5;28;01massert\u001b[39;00m get_valid_moves(test_world, test_moves, (\u001b[38;5;241m2\u001b[39m, \u001b[38;5;241m2\u001b[39m)) \u001b[38;5;241m==\u001b[39m [(\u001b[38;5;241m2\u001b[39m, \u001b[38;5;241m1\u001b[39m), (\u001b[38;5;241m1\u001b[39m, \u001b[38;5;241m2\u001b[39m)]\n\u001b[1;32m      9\u001b[0m \u001b[38;5;28;01massert\u001b[39;00m get_valid_moves(test_world, test_moves, (\u001b[38;5;241m0\u001b[39m, \u001b[38;5;241m0\u001b[39m)) \u001b[38;5;241m==\u001b[39m [(\u001b[38;5;241m0\u001b[39m, \u001b[38;5;241m1\u001b[39m), (\u001b[38;5;241m1\u001b[39m, \u001b[38;5;241m0\u001b[39m)]\n",
      "\u001b[0;31mTypeError\u001b[0m: get_valid_moves() takes 2 positional arguments but 3 were given"
     ]
    }
   ],
   "source": [
    "test_world = [\n",
    "    ['⬜', '⬜', '⬜'],\n",
    "    ['⬜', '⬛', '⬜'],\n",
    "    ['⬜', '⬜', '⬜']\n",
    "]\n",
    "test_moves = [(0, 1), (1, 0), (0, -1), (-1, 0)]\n",
    "assert get_valid_moves(test_world, test_moves, (0, 0)) == [(0, 1), (1, 0)]\n",
    "assert get_valid_moves(test_world, test_moves, (2, 2)) == [(2, 1), (1, 2)]\n",
    "assert get_valid_moves(test_world, test_moves, (0, 0)) == [(0, 1), (1, 0)]"
   ]
  },
  {
   "cell_type": "code",
   "execution_count": 21,
   "metadata": {},
   "outputs": [],
   "source": [
    "def get_legal_val_moves(world, current):\n",
    "    unmoved = deepcopy(MOVES)\n",
    "    new_position = current\n",
    "    while len(unmoved) > 0:\n",
    "        move = random.choice(unmoved)\n",
    "        unmoved.remove(move)\n",
    "        potential_position = (current[0] + move[0], current[1] + move[1])\n",
    "        new_r, new_c = potential_position\n",
    "        if new_r < 0 or new_r >= len(world) or new_c < 0 or new_c >= len(world[0]):\n",
    "            continue\n",
    "        if world[new_r][new_c] == '⬛':     \n",
    "            continue\n",
    "        else :\n",
    "            new_position = potential_position\n",
    "            break\n",
    "    return new_position"
   ]
  },
  {
   "cell_type": "markdown",
   "metadata": {},
   "source": [
    "<a id=\"random_strategy\"></a>\n",
    "## random_strategy\n",
    "\n",
    "Selects a random valid move for the current position of the robot in the world grid.\n",
    "\n",
    "* **arg_1** list of list: `w` - A 2D list representing the world grid, where each cell can contain a character indicating the state of the cell.\n",
    "* **arg_2** tuple: `cur` - A tuple representing the current coordinates (x, y) of the robot.\n",
    "* **arg_3** any: `m` - A parameter representing the robot's movement constraints or types (specific usage may vary).\n",
    "\n",
    "**returns** \n",
    "\n",
    "* **tuple**: A tuple representing the coordinates of the selected valid move for the robot.\n"
   ]
  },
  {
   "cell_type": "code",
   "execution_count": 22,
   "metadata": {},
   "outputs": [],
   "source": [
    "def ran_strategy(_world, start, goal, strategy, role, opponent=None, depth=2, bad_evaluate_arg=\"opponent_oriented\"):\n",
    "    current = start\n",
    "    new_position = start\n",
    "\n",
    "    if strategy == \"random_strategy\":\n",
    "        new_position = get_legal_val_moves(_world, current)\n",
    "\n",
    "    elif strategy == \"MINIMAX\":\n",
    "        eval, best_move = MINIMAX(_world, start, goal, opponent, role, True, depth=depth, bad_evaluate_arg=bad_evaluate_arg)\n",
    "        new_position = best_move\n",
    "    if _world[current[0]][current[1]] != '❤️' and _world[current[0]][current[1]] != '👾' and _world[current[0]][current[1]] != '🤖' and _world[current[0]][current[1]] != '🟩' and _world[current[0]][current[1]] != '🟥':\n",
    "        if role == True:\n",
    "            _world[current[0]][current[1]] = '🟩'\n",
    "        else:\n",
    "            _world[current[0]][current[1]] = '🟥'\n",
    "    return new_position\n"
   ]
  },
  {
   "cell_type": "code",
   "execution_count": 23,
   "metadata": {},
   "outputs": [
    {
     "ename": "NameError",
     "evalue": "name 'random_strategy' is not defined",
     "output_type": "error",
     "traceback": [
      "\u001b[0;31m---------------------------------------------------------------------------\u001b[0m",
      "\u001b[0;31mNameError\u001b[0m                                 Traceback (most recent call last)",
      "Cell \u001b[0;32mIn[23], line 13\u001b[0m\n\u001b[1;32m      9\u001b[0m test_moves \u001b[38;5;241m=\u001b[39m [(\u001b[38;5;241m0\u001b[39m, \u001b[38;5;241m1\u001b[39m), (\u001b[38;5;241m1\u001b[39m, \u001b[38;5;241m0\u001b[39m), (\u001b[38;5;241m0\u001b[39m, \u001b[38;5;241m-\u001b[39m\u001b[38;5;241m1\u001b[39m), (\u001b[38;5;241m-\u001b[39m\u001b[38;5;241m1\u001b[39m, \u001b[38;5;241m0\u001b[39m)]\n\u001b[1;32m     11\u001b[0m n \u001b[38;5;241m=\u001b[39m \u001b[38;5;28mlen\u001b[39m(test_world) \u001b[38;5;241m-\u001b[39m \u001b[38;5;241m1\u001b[39m\n\u001b[0;32m---> 13\u001b[0m \u001b[38;5;28;01massert\u001b[39;00m random_strategy(test_world, (\u001b[38;5;241m1\u001b[39m, \u001b[38;5;241m0\u001b[39m), test_moves) \u001b[38;5;129;01min\u001b[39;00m [(\u001b[38;5;241m0\u001b[39m, \u001b[38;5;241m0\u001b[39m), (\u001b[38;5;241m2\u001b[39m, \u001b[38;5;241m0\u001b[39m), (\u001b[38;5;241m1\u001b[39m, \u001b[38;5;241m1\u001b[39m)]\n\u001b[1;32m     14\u001b[0m \u001b[38;5;28;01massert\u001b[39;00m random_strategy(test_world, (\u001b[38;5;241m2\u001b[39m, \u001b[38;5;241m2\u001b[39m), test_moves) \u001b[38;5;129;01min\u001b[39;00m [(\u001b[38;5;241m1\u001b[39m, \u001b[38;5;241m2\u001b[39m), (\u001b[38;5;241m2\u001b[39m, \u001b[38;5;241m3\u001b[39m), (\u001b[38;5;241m3\u001b[39m, \u001b[38;5;241m2\u001b[39m)]\n\u001b[1;32m     15\u001b[0m \u001b[38;5;28;01massert\u001b[39;00m random_strategy(test_world, (\u001b[38;5;241m4\u001b[39m, \u001b[38;5;241m0\u001b[39m), test_moves) \u001b[38;5;129;01min\u001b[39;00m [(\u001b[38;5;241m3\u001b[39m, \u001b[38;5;241m0\u001b[39m), (\u001b[38;5;241m4\u001b[39m, \u001b[38;5;241m1\u001b[39m)]\n",
      "\u001b[0;31mNameError\u001b[0m: name 'random_strategy' is not defined"
     ]
    }
   ],
   "source": [
    "\n",
    "test_world = [\n",
    "    ['⬜', '⬜', '⬜', '⬜', '⬜'],\n",
    "    ['⬜', '⬛', '⬜', '⬜', '⬜'],\n",
    "    ['⬜', '⬜', '⬛', '⬜', '⬜'],\n",
    "    ['⬜', '⬜', '⬜', '⬜', '⬜'],\n",
    "    ['⬜', '⬜', '⬜', '⬛', '⬜']\n",
    "]\n",
    "\n",
    "test_moves = [(0, 1), (1, 0), (0, -1), (-1, 0)]\n",
    "\n",
    "n = len(test_world) - 1\n",
    "\n",
    "assert random_strategy(test_world, (1, 0), test_moves) in [(0, 0), (2, 0), (1, 1)]\n",
    "assert random_strategy(test_world, (2, 2), test_moves) in [(1, 2), (2, 3), (3, 2)]\n",
    "assert random_strategy(test_world, (4, 0), test_moves) in [(3, 0), (4, 1)]"
   ]
  },
  {
   "cell_type": "markdown",
   "metadata": {},
   "source": [
    "\n",
    "<a id=\"MINIMAX\"></a>\n",
    "## MINIMAX\n",
    "\n",
    "Implements the Minimax algorithm to determine the best move for the given robot in a game state, considering the positions of both robots and the goal.\n",
    "\n",
    "### Parameters\n",
    "- **w** (list of list): A 2D list representing the world grid, where each cell contains a character indicating the state of the cell.\n",
    "- **p_pos** (tuple): The current coordinates (x, y) of the good robot.\n",
    "- **g** (tuple): The coordinates (x, y) of the goal.\n",
    "- **o_pos** (tuple): The current coordinates (x, y) of the bad robot.\n",
    "- **m** (list of tuples): A list of tuples representing the possible movement directions for the robots.\n",
    "- **d** (int): The maximum depth of the search tree.\n",
    "- **is_max** (bool): A flag indicating whether the current evaluation is for the maximizing player (good robot).\n",
    "\n",
    "### Returns\n",
    "- **tuple**: The coordinates (x, y) of the best move for the good robot based on the Minimax evaluation.\n",
    "\n",
    "### Description\n",
    "This function applies the Minimax algorithm to find the optimal move for the good robot by evaluating possible future game states. It first checks if the maximum depth (`d`) has been reached; if so, it returns `None`. It initializes the best move and sets the value (`v`) to negative infinity. The function then iterates through all valid moves for the good robot, evaluating the minimum value for each move using the `evaluate_min_value` function. If a move yields a higher utility value than the current best, it updates the best move and the value. Finally, it returns the best move determined through this evaluation process.\n",
    "\n"
   ]
  },
  {
   "cell_type": "code",
   "execution_count": 24,
   "metadata": {},
   "outputs": [
    {
     "ename": "SyntaxError",
     "evalue": "invalid syntax (3591750985.py, line 11)",
     "output_type": "error",
     "traceback": [
      "\u001b[0;36m  Cell \u001b[0;32mIn[24], line 11\u001b[0;36m\u001b[0m\n\u001b[0;31m    eval, _ = def MINIMAX(world, start, goal, opponent, role, maximizing_player, depth=2, bad_evaluate_arg=\"opponent_oriented\"):(world, opponent, goal, move, not role, not maximizing_player, depth - 1, bad_evaluate_arg)\u001b[0m\n\u001b[0m              ^\u001b[0m\n\u001b[0;31mSyntaxError\u001b[0m\u001b[0;31m:\u001b[0m invalid syntax\n"
     ]
    }
   ],
   "source": [
    "def MINIMAX(world, start, goal, opponent, role, maximizing_player, depth=2, bad_evaluate_arg=\"opponent_oriented\"):\n",
    "    if depth == 0 or start == goal:\n",
    "        return cal_evaluate(role, start, goal, opponent, bad_evaluate_arg)\n",
    "\n",
    "    best_move = None\n",
    "    best_value = float('-inf') if maximizing_player else float('inf')\n",
    "\n",
    "    legal_moves = get_valid_moves(world, start)\n",
    "    for move in legal_moves:\n",
    "\n",
    "        eval, _ = def MINIMAX(world, start, goal, opponent, role, maximizing_player, depth=2, bad_evaluate_arg=\"opponent_oriented\"):(world, opponent, goal, move, not role, not maximizing_player, depth - 1, bad_evaluate_arg)\n",
    "        if (maximizing_player and eval > best_value) or (not maximizing_player and eval < best_value):\n",
    "            best_value, best_move = eval, move\n",
    "    \n",
    "    return best_value, best_move"
   ]
  },
  {
   "cell_type": "code",
   "execution_count": 25,
   "metadata": {},
   "outputs": [
    {
     "ename": "NameError",
     "evalue": "name 'MINIMAX' is not defined",
     "output_type": "error",
     "traceback": [
      "\u001b[0;31m---------------------------------------------------------------------------\u001b[0m",
      "\u001b[0;31mNameError\u001b[0m                                 Traceback (most recent call last)",
      "Cell \u001b[0;32mIn[25], line 1\u001b[0m\n\u001b[0;32m----> 1\u001b[0m \u001b[38;5;28;01massert\u001b[39;00m MINIMAX(world, (\u001b[38;5;241m3\u001b[39m, \u001b[38;5;241m3\u001b[39m), goal, (\u001b[38;5;241m0\u001b[39m, \u001b[38;5;241m0\u001b[39m), MOVES, \u001b[38;5;241m2\u001b[39m, \u001b[38;5;28;01mFalse\u001b[39;00m) \u001b[38;5;129;01mis\u001b[39;00m \u001b[38;5;129;01mnot\u001b[39;00m \u001b[38;5;28;01mNone\u001b[39;00m\n\u001b[1;32m      2\u001b[0m \u001b[38;5;28;01massert\u001b[39;00m MINIMAX(world, (\u001b[38;5;241m1\u001b[39m, \u001b[38;5;241m2\u001b[39m), goal, (\u001b[38;5;241m2\u001b[39m, \u001b[38;5;241m1\u001b[39m), MOVES, \u001b[38;5;241m1\u001b[39m, \u001b[38;5;28;01mTrue\u001b[39;00m) \u001b[38;5;129;01mis\u001b[39;00m \u001b[38;5;129;01mnot\u001b[39;00m \u001b[38;5;28;01mNone\u001b[39;00m\n\u001b[1;32m      3\u001b[0m \u001b[38;5;28;01massert\u001b[39;00m MINIMAX(world, (\u001b[38;5;241m2\u001b[39m, \u001b[38;5;241m0\u001b[39m), goal, (\u001b[38;5;241m1\u001b[39m, \u001b[38;5;241m1\u001b[39m), MOVES, \u001b[38;5;241m2\u001b[39m, \u001b[38;5;28;01mFalse\u001b[39;00m) \u001b[38;5;129;01mis\u001b[39;00m \u001b[38;5;129;01mnot\u001b[39;00m \u001b[38;5;28;01mNone\u001b[39;00m\n",
      "\u001b[0;31mNameError\u001b[0m: name 'MINIMAX' is not defined"
     ]
    }
   ],
   "source": [
    "assert MINIMAX(world, (3, 3), goal, (0, 0), MOVES, 2, False) is not None\n",
    "assert MINIMAX(world, (1, 2), goal, (2, 1), MOVES, 1, True) is not None\n",
    "assert MINIMAX(world, (2, 0), goal, (1, 1), MOVES, 2, False) is not None\n"
   ]
  },
  {
   "cell_type": "markdown",
   "metadata": {},
   "source": [
    "<a id=\"breadth_first_search\"></a>\n",
    "## run_robot_game\n",
    "\n",
    "Description of your function.\n",
    "\n",
    "* **world** List[List[str]]: the search area\n",
    "* **good_start** Tuple[int, int]: the starting location of the good robot\n",
    "* **bad_start** Tuple[int, int]: the starting location of the bad robot\n",
    "* **goal** Tuple[int, int]: the goal location in the world\n",
    "* **moves** List[Tuple[int, int]]: the allowable moves in the world\n",
    "* **good_strategy** str: name of strategy to use for good robot: either random_strategy or MINIMAX with option to set depth\n",
    "* **bad_strategy** str: name of strategy to use for bad robot: either random_strategy or MINIMAX with option to set depth\n",
    "\n",
    "\n",
    "**returns** None (but prints out a nice view of the world and replaces appropriate cells)."
   ]
  },
  {
   "cell_type": "code",
   "execution_count": 26,
   "metadata": {},
   "outputs": [],
   "source": [
    "def run_robot_game(_world, good_start, bad_start, goal, good_strategy, bad_strategy, bad_strategy_depth = 2, good_strategy_depth = 2, bad_evaluate_arg=\"opponent_oriented\"): # Amend argument list and description above as you see fit\n",
    "    turn_count = 0\n",
    "    max_turns = 82\n",
    "    while turn_count < max_turns:\n",
    "        if bad_start == good_start:\n",
    "            print(\"Robot was caught by the bad robot!\")\n",
    "            break\n",
    "        if good_start == goal:\n",
    "            print(\"Robot reached the goal!\")\n",
    "            break\n",
    "        good_start = ran_strategy(_world, good_start, goal, good_strategy, True, bad_start, good_strategy_depth)\n",
    "        bad_start = ran_strategy(_world, bad_start, goal, bad_strategy, False, good_start, bad_strategy_depth, bad_evaluate_arg)\n",
    "        turn_count += 1\n",
    "    print_world(_world)\n",
    "    return"
   ]
  },
  {
   "cell_type": "code",
   "execution_count": 27,
   "metadata": {},
   "outputs": [
    {
     "ename": "NameError",
     "evalue": "name 'MINIMAX' is not defined",
     "output_type": "error",
     "traceback": [
      "\u001b[0;31m---------------------------------------------------------------------------\u001b[0m",
      "\u001b[0;31mNameError\u001b[0m                                 Traceback (most recent call last)",
      "Cell \u001b[0;32mIn[27], line 3\u001b[0m\n\u001b[1;32m      1\u001b[0m \u001b[38;5;66;03m# Modify arguments, but when you uncomment the line below, it should ONLY print out a nice view of the world when the game is over\u001b[39;00m\n\u001b[1;32m      2\u001b[0m _world \u001b[38;5;241m=\u001b[39m deepcopy(world)\n\u001b[0;32m----> 3\u001b[0m result_1 \u001b[38;5;241m=\u001b[39m run_robot_game(_world, good_start, bad_start, goal, good_strategy \u001b[38;5;241m=\u001b[39m \u001b[38;5;124m'\u001b[39m\u001b[38;5;124mMINIMAX\u001b[39m\u001b[38;5;124m'\u001b[39m, bad_strategy \u001b[38;5;241m=\u001b[39m \u001b[38;5;124m'\u001b[39m\u001b[38;5;124mrandom_strategy\u001b[39m\u001b[38;5;124m'\u001b[39m)\n",
      "Cell \u001b[0;32mIn[26], line 11\u001b[0m, in \u001b[0;36mrun_robot_game\u001b[0;34m(_world, good_start, bad_start, goal, good_strategy, bad_strategy, bad_strategy_depth, good_strategy_depth, bad_evaluate_arg)\u001b[0m\n\u001b[1;32m      9\u001b[0m     \u001b[38;5;28mprint\u001b[39m(\u001b[38;5;124m\"\u001b[39m\u001b[38;5;124mRobot reached the goal!\u001b[39m\u001b[38;5;124m\"\u001b[39m)\n\u001b[1;32m     10\u001b[0m     \u001b[38;5;28;01mbreak\u001b[39;00m\n\u001b[0;32m---> 11\u001b[0m good_start \u001b[38;5;241m=\u001b[39m ran_strategy(_world, good_start, goal, good_strategy, \u001b[38;5;28;01mTrue\u001b[39;00m, bad_start, good_strategy_depth)\n\u001b[1;32m     12\u001b[0m bad_start \u001b[38;5;241m=\u001b[39m ran_strategy(_world, bad_start, goal, bad_strategy, \u001b[38;5;28;01mFalse\u001b[39;00m, good_start, bad_strategy_depth, bad_evaluate_arg)\n\u001b[1;32m     13\u001b[0m turn_count \u001b[38;5;241m+\u001b[39m\u001b[38;5;241m=\u001b[39m \u001b[38;5;241m1\u001b[39m\n",
      "Cell \u001b[0;32mIn[22], line 9\u001b[0m, in \u001b[0;36mran_strategy\u001b[0;34m(_world, start, goal, strategy, role, opponent, depth, bad_evaluate_arg)\u001b[0m\n\u001b[1;32m      6\u001b[0m     new_position \u001b[38;5;241m=\u001b[39m get_legal_val_moves(_world, current)\n\u001b[1;32m      8\u001b[0m \u001b[38;5;28;01melif\u001b[39;00m strategy \u001b[38;5;241m==\u001b[39m \u001b[38;5;124m\"\u001b[39m\u001b[38;5;124mMINIMAX\u001b[39m\u001b[38;5;124m\"\u001b[39m:\n\u001b[0;32m----> 9\u001b[0m     \u001b[38;5;28meval\u001b[39m, best_move \u001b[38;5;241m=\u001b[39m MINIMAX(_world, start, goal, opponent, role, \u001b[38;5;28;01mTrue\u001b[39;00m, depth\u001b[38;5;241m=\u001b[39mdepth, bad_evaluate_arg\u001b[38;5;241m=\u001b[39mbad_evaluate_arg)\n\u001b[1;32m     10\u001b[0m     new_position \u001b[38;5;241m=\u001b[39m best_move\n\u001b[1;32m     11\u001b[0m \u001b[38;5;28;01mif\u001b[39;00m _world[current[\u001b[38;5;241m0\u001b[39m]][current[\u001b[38;5;241m1\u001b[39m]] \u001b[38;5;241m!=\u001b[39m \u001b[38;5;124m'\u001b[39m\u001b[38;5;124m❤️\u001b[39m\u001b[38;5;124m'\u001b[39m \u001b[38;5;129;01mand\u001b[39;00m _world[current[\u001b[38;5;241m0\u001b[39m]][current[\u001b[38;5;241m1\u001b[39m]] \u001b[38;5;241m!=\u001b[39m \u001b[38;5;124m'\u001b[39m\u001b[38;5;124m👾\u001b[39m\u001b[38;5;124m'\u001b[39m \u001b[38;5;129;01mand\u001b[39;00m _world[current[\u001b[38;5;241m0\u001b[39m]][current[\u001b[38;5;241m1\u001b[39m]] \u001b[38;5;241m!=\u001b[39m \u001b[38;5;124m'\u001b[39m\u001b[38;5;124m🤖\u001b[39m\u001b[38;5;124m'\u001b[39m \u001b[38;5;129;01mand\u001b[39;00m _world[current[\u001b[38;5;241m0\u001b[39m]][current[\u001b[38;5;241m1\u001b[39m]] \u001b[38;5;241m!=\u001b[39m \u001b[38;5;124m'\u001b[39m\u001b[38;5;124m🟩\u001b[39m\u001b[38;5;124m'\u001b[39m \u001b[38;5;129;01mand\u001b[39;00m _world[current[\u001b[38;5;241m0\u001b[39m]][current[\u001b[38;5;241m1\u001b[39m]] \u001b[38;5;241m!=\u001b[39m \u001b[38;5;124m'\u001b[39m\u001b[38;5;124m🟥\u001b[39m\u001b[38;5;124m'\u001b[39m:\n",
      "\u001b[0;31mNameError\u001b[0m: name 'MINIMAX' is not defined"
     ]
    }
   ],
   "source": [
    "# Modify arguments, but when you uncomment the line below, it should ONLY print out a nice view of the world when the game is over\n",
    "_world = deepcopy(world)\n",
    "result_1 = run_robot_game(_world, good_start, bad_start, goal, good_strategy = 'MINIMAX', bad_strategy = 'random_strategy')"
   ]
  },
  {
   "cell_type": "markdown",
   "metadata": {},
   "source": [
    "## Problem #2\n",
    "\n",
    "\n",
    "Play the game again, but in this problem, '🤖' and '👾' both use MINIMAX with a depth of 2."
   ]
  },
  {
   "cell_type": "code",
   "execution_count": 28,
   "metadata": {},
   "outputs": [
    {
     "ename": "NameError",
     "evalue": "name 'MINIMAX' is not defined",
     "output_type": "error",
     "traceback": [
      "\u001b[0;31m---------------------------------------------------------------------------\u001b[0m",
      "\u001b[0;31mNameError\u001b[0m                                 Traceback (most recent call last)",
      "Cell \u001b[0;32mIn[28], line 3\u001b[0m\n\u001b[1;32m      1\u001b[0m \u001b[38;5;66;03m# Modify arguments, but when you uncomment the line below, it should ONLY print out a nice view of the world when the game is over\u001b[39;00m\n\u001b[0;32m----> 3\u001b[0m result_2 \u001b[38;5;241m=\u001b[39m run_robot_game(world, good_start, bad_start, goal, MOVES, \u001b[38;5;124m'\u001b[39m\u001b[38;5;124mMINIMAX\u001b[39m\u001b[38;5;124m'\u001b[39m, \u001b[38;5;241m2\u001b[39m, \u001b[38;5;124m'\u001b[39m\u001b[38;5;124mMINIMAX\u001b[39m\u001b[38;5;124m'\u001b[39m, \u001b[38;5;241m2\u001b[39m)\n",
      "Cell \u001b[0;32mIn[26], line 12\u001b[0m, in \u001b[0;36mrun_robot_game\u001b[0;34m(_world, good_start, bad_start, goal, good_strategy, bad_strategy, bad_strategy_depth, good_strategy_depth, bad_evaluate_arg)\u001b[0m\n\u001b[1;32m     10\u001b[0m         \u001b[38;5;28;01mbreak\u001b[39;00m\n\u001b[1;32m     11\u001b[0m     good_start \u001b[38;5;241m=\u001b[39m ran_strategy(_world, good_start, goal, good_strategy, \u001b[38;5;28;01mTrue\u001b[39;00m, bad_start, good_strategy_depth)\n\u001b[0;32m---> 12\u001b[0m     bad_start \u001b[38;5;241m=\u001b[39m ran_strategy(_world, bad_start, goal, bad_strategy, \u001b[38;5;28;01mFalse\u001b[39;00m, good_start, bad_strategy_depth, bad_evaluate_arg)\n\u001b[1;32m     13\u001b[0m     turn_count \u001b[38;5;241m+\u001b[39m\u001b[38;5;241m=\u001b[39m \u001b[38;5;241m1\u001b[39m\n\u001b[1;32m     14\u001b[0m print_world(_world)\n",
      "Cell \u001b[0;32mIn[22], line 9\u001b[0m, in \u001b[0;36mran_strategy\u001b[0;34m(_world, start, goal, strategy, role, opponent, depth, bad_evaluate_arg)\u001b[0m\n\u001b[1;32m      6\u001b[0m     new_position \u001b[38;5;241m=\u001b[39m get_legal_val_moves(_world, current)\n\u001b[1;32m      8\u001b[0m \u001b[38;5;28;01melif\u001b[39;00m strategy \u001b[38;5;241m==\u001b[39m \u001b[38;5;124m\"\u001b[39m\u001b[38;5;124mMINIMAX\u001b[39m\u001b[38;5;124m\"\u001b[39m:\n\u001b[0;32m----> 9\u001b[0m     \u001b[38;5;28meval\u001b[39m, best_move \u001b[38;5;241m=\u001b[39m MINIMAX(_world, start, goal, opponent, role, \u001b[38;5;28;01mTrue\u001b[39;00m, depth\u001b[38;5;241m=\u001b[39mdepth, bad_evaluate_arg\u001b[38;5;241m=\u001b[39mbad_evaluate_arg)\n\u001b[1;32m     10\u001b[0m     new_position \u001b[38;5;241m=\u001b[39m best_move\n\u001b[1;32m     11\u001b[0m \u001b[38;5;28;01mif\u001b[39;00m _world[current[\u001b[38;5;241m0\u001b[39m]][current[\u001b[38;5;241m1\u001b[39m]] \u001b[38;5;241m!=\u001b[39m \u001b[38;5;124m'\u001b[39m\u001b[38;5;124m❤️\u001b[39m\u001b[38;5;124m'\u001b[39m \u001b[38;5;129;01mand\u001b[39;00m _world[current[\u001b[38;5;241m0\u001b[39m]][current[\u001b[38;5;241m1\u001b[39m]] \u001b[38;5;241m!=\u001b[39m \u001b[38;5;124m'\u001b[39m\u001b[38;5;124m👾\u001b[39m\u001b[38;5;124m'\u001b[39m \u001b[38;5;129;01mand\u001b[39;00m _world[current[\u001b[38;5;241m0\u001b[39m]][current[\u001b[38;5;241m1\u001b[39m]] \u001b[38;5;241m!=\u001b[39m \u001b[38;5;124m'\u001b[39m\u001b[38;5;124m🤖\u001b[39m\u001b[38;5;124m'\u001b[39m \u001b[38;5;129;01mand\u001b[39;00m _world[current[\u001b[38;5;241m0\u001b[39m]][current[\u001b[38;5;241m1\u001b[39m]] \u001b[38;5;241m!=\u001b[39m \u001b[38;5;124m'\u001b[39m\u001b[38;5;124m🟩\u001b[39m\u001b[38;5;124m'\u001b[39m \u001b[38;5;129;01mand\u001b[39;00m _world[current[\u001b[38;5;241m0\u001b[39m]][current[\u001b[38;5;241m1\u001b[39m]] \u001b[38;5;241m!=\u001b[39m \u001b[38;5;124m'\u001b[39m\u001b[38;5;124m🟥\u001b[39m\u001b[38;5;124m'\u001b[39m:\n",
      "\u001b[0;31mNameError\u001b[0m: name 'MINIMAX' is not defined"
     ]
    }
   ],
   "source": [
    "# Modify arguments, but when you uncomment the line below, it should ONLY print out a nice view of the world when the game is over\n",
    "\n",
    "result_2 = run_robot_game(world, good_start, bad_start, goal, MOVES, 'MINIMAX', 2, 'MINIMAX', 2)"
   ]
  },
  {
   "cell_type": "markdown",
   "metadata": {},
   "source": [
    "## Problem #3\n",
    "\n",
    "\n",
    "Play the game again, but in this problem '🤖' uses a depth of 2; '👾' uses a depth of 8."
   ]
  },
  {
   "cell_type": "code",
   "execution_count": 29,
   "metadata": {},
   "outputs": [
    {
     "ename": "NameError",
     "evalue": "name 'MINIMAX' is not defined",
     "output_type": "error",
     "traceback": [
      "\u001b[0;31m---------------------------------------------------------------------------\u001b[0m",
      "\u001b[0;31mNameError\u001b[0m                                 Traceback (most recent call last)",
      "Cell \u001b[0;32mIn[29], line 3\u001b[0m\n\u001b[1;32m      1\u001b[0m \u001b[38;5;66;03m# Add your arguments, but when you uncomment the line below, it should ONLY print out a nice view of the world when the game is over\u001b[39;00m\n\u001b[0;32m----> 3\u001b[0m result_3 \u001b[38;5;241m=\u001b[39m run_robot_game(world, good_start, bad_start, goal, MOVES, \u001b[38;5;124m'\u001b[39m\u001b[38;5;124mMINIMAX\u001b[39m\u001b[38;5;124m'\u001b[39m, \u001b[38;5;241m2\u001b[39m, \u001b[38;5;124m'\u001b[39m\u001b[38;5;124mMINIMAX\u001b[39m\u001b[38;5;124m'\u001b[39m, \u001b[38;5;241m6\u001b[39m )\n",
      "Cell \u001b[0;32mIn[26], line 12\u001b[0m, in \u001b[0;36mrun_robot_game\u001b[0;34m(_world, good_start, bad_start, goal, good_strategy, bad_strategy, bad_strategy_depth, good_strategy_depth, bad_evaluate_arg)\u001b[0m\n\u001b[1;32m     10\u001b[0m         \u001b[38;5;28;01mbreak\u001b[39;00m\n\u001b[1;32m     11\u001b[0m     good_start \u001b[38;5;241m=\u001b[39m ran_strategy(_world, good_start, goal, good_strategy, \u001b[38;5;28;01mTrue\u001b[39;00m, bad_start, good_strategy_depth)\n\u001b[0;32m---> 12\u001b[0m     bad_start \u001b[38;5;241m=\u001b[39m ran_strategy(_world, bad_start, goal, bad_strategy, \u001b[38;5;28;01mFalse\u001b[39;00m, good_start, bad_strategy_depth, bad_evaluate_arg)\n\u001b[1;32m     13\u001b[0m     turn_count \u001b[38;5;241m+\u001b[39m\u001b[38;5;241m=\u001b[39m \u001b[38;5;241m1\u001b[39m\n\u001b[1;32m     14\u001b[0m print_world(_world)\n",
      "Cell \u001b[0;32mIn[22], line 9\u001b[0m, in \u001b[0;36mran_strategy\u001b[0;34m(_world, start, goal, strategy, role, opponent, depth, bad_evaluate_arg)\u001b[0m\n\u001b[1;32m      6\u001b[0m     new_position \u001b[38;5;241m=\u001b[39m get_legal_val_moves(_world, current)\n\u001b[1;32m      8\u001b[0m \u001b[38;5;28;01melif\u001b[39;00m strategy \u001b[38;5;241m==\u001b[39m \u001b[38;5;124m\"\u001b[39m\u001b[38;5;124mMINIMAX\u001b[39m\u001b[38;5;124m\"\u001b[39m:\n\u001b[0;32m----> 9\u001b[0m     \u001b[38;5;28meval\u001b[39m, best_move \u001b[38;5;241m=\u001b[39m MINIMAX(_world, start, goal, opponent, role, \u001b[38;5;28;01mTrue\u001b[39;00m, depth\u001b[38;5;241m=\u001b[39mdepth, bad_evaluate_arg\u001b[38;5;241m=\u001b[39mbad_evaluate_arg)\n\u001b[1;32m     10\u001b[0m     new_position \u001b[38;5;241m=\u001b[39m best_move\n\u001b[1;32m     11\u001b[0m \u001b[38;5;28;01mif\u001b[39;00m _world[current[\u001b[38;5;241m0\u001b[39m]][current[\u001b[38;5;241m1\u001b[39m]] \u001b[38;5;241m!=\u001b[39m \u001b[38;5;124m'\u001b[39m\u001b[38;5;124m❤️\u001b[39m\u001b[38;5;124m'\u001b[39m \u001b[38;5;129;01mand\u001b[39;00m _world[current[\u001b[38;5;241m0\u001b[39m]][current[\u001b[38;5;241m1\u001b[39m]] \u001b[38;5;241m!=\u001b[39m \u001b[38;5;124m'\u001b[39m\u001b[38;5;124m👾\u001b[39m\u001b[38;5;124m'\u001b[39m \u001b[38;5;129;01mand\u001b[39;00m _world[current[\u001b[38;5;241m0\u001b[39m]][current[\u001b[38;5;241m1\u001b[39m]] \u001b[38;5;241m!=\u001b[39m \u001b[38;5;124m'\u001b[39m\u001b[38;5;124m🤖\u001b[39m\u001b[38;5;124m'\u001b[39m \u001b[38;5;129;01mand\u001b[39;00m _world[current[\u001b[38;5;241m0\u001b[39m]][current[\u001b[38;5;241m1\u001b[39m]] \u001b[38;5;241m!=\u001b[39m \u001b[38;5;124m'\u001b[39m\u001b[38;5;124m🟩\u001b[39m\u001b[38;5;124m'\u001b[39m \u001b[38;5;129;01mand\u001b[39;00m _world[current[\u001b[38;5;241m0\u001b[39m]][current[\u001b[38;5;241m1\u001b[39m]] \u001b[38;5;241m!=\u001b[39m \u001b[38;5;124m'\u001b[39m\u001b[38;5;124m🟥\u001b[39m\u001b[38;5;124m'\u001b[39m:\n",
      "\u001b[0;31mNameError\u001b[0m: name 'MINIMAX' is not defined"
     ]
    }
   ],
   "source": [
    "# Add your arguments, but when you uncomment the line below, it should ONLY print out a nice view of the world when the game is over\n",
    "\n",
    "result_3 = run_robot_game(world, good_start, bad_start, goal, MOVES, 'MINIMAX', 2, 'MINIMAX', 6 )"
   ]
  },
  {
   "cell_type": "markdown",
   "metadata": {},
   "source": [
    "## Problem #4\n",
    "\n",
    "\n",
    "Play the game again, but in this problem, '🤖' and '👾' both use a depth of 4 and utility function of '👾' = - Euclidean distance to '❤️' - Euclidean distance to '🤖' (it now knows the '❤️' means something to '🤖')."
   ]
  },
  {
   "cell_type": "code",
   "execution_count": 30,
   "metadata": {},
   "outputs": [],
   "source": [
    "def utility_bad_robot(b, g, goal):\n",
    "    return - euclidean_distance(goal, b) - euclidean_distance(g, b)"
   ]
  },
  {
   "cell_type": "code",
   "execution_count": 31,
   "metadata": {},
   "outputs": [
    {
     "ename": "NameError",
     "evalue": "name 'MINIMAX' is not defined",
     "output_type": "error",
     "traceback": [
      "\u001b[0;31m---------------------------------------------------------------------------\u001b[0m",
      "\u001b[0;31mNameError\u001b[0m                                 Traceback (most recent call last)",
      "Cell \u001b[0;32mIn[31], line 2\u001b[0m\n\u001b[1;32m      1\u001b[0m \u001b[38;5;66;03m# Add your arguments, but this should ONLY print out a nice view of the world\u001b[39;00m\n\u001b[0;32m----> 2\u001b[0m result_4 \u001b[38;5;241m=\u001b[39m run_robot_game(world, good_start, bad_start, goal, MOVES, \u001b[38;5;124m'\u001b[39m\u001b[38;5;124mMINIMAX\u001b[39m\u001b[38;5;124m'\u001b[39m, \u001b[38;5;241m4\u001b[39m, \u001b[38;5;124m'\u001b[39m\u001b[38;5;124mMINIMAX\u001b[39m\u001b[38;5;124m'\u001b[39m, \u001b[38;5;241m4\u001b[39m )\n",
      "Cell \u001b[0;32mIn[26], line 12\u001b[0m, in \u001b[0;36mrun_robot_game\u001b[0;34m(_world, good_start, bad_start, goal, good_strategy, bad_strategy, bad_strategy_depth, good_strategy_depth, bad_evaluate_arg)\u001b[0m\n\u001b[1;32m     10\u001b[0m         \u001b[38;5;28;01mbreak\u001b[39;00m\n\u001b[1;32m     11\u001b[0m     good_start \u001b[38;5;241m=\u001b[39m ran_strategy(_world, good_start, goal, good_strategy, \u001b[38;5;28;01mTrue\u001b[39;00m, bad_start, good_strategy_depth)\n\u001b[0;32m---> 12\u001b[0m     bad_start \u001b[38;5;241m=\u001b[39m ran_strategy(_world, bad_start, goal, bad_strategy, \u001b[38;5;28;01mFalse\u001b[39;00m, good_start, bad_strategy_depth, bad_evaluate_arg)\n\u001b[1;32m     13\u001b[0m     turn_count \u001b[38;5;241m+\u001b[39m\u001b[38;5;241m=\u001b[39m \u001b[38;5;241m1\u001b[39m\n\u001b[1;32m     14\u001b[0m print_world(_world)\n",
      "Cell \u001b[0;32mIn[22], line 9\u001b[0m, in \u001b[0;36mran_strategy\u001b[0;34m(_world, start, goal, strategy, role, opponent, depth, bad_evaluate_arg)\u001b[0m\n\u001b[1;32m      6\u001b[0m     new_position \u001b[38;5;241m=\u001b[39m get_legal_val_moves(_world, current)\n\u001b[1;32m      8\u001b[0m \u001b[38;5;28;01melif\u001b[39;00m strategy \u001b[38;5;241m==\u001b[39m \u001b[38;5;124m\"\u001b[39m\u001b[38;5;124mMINIMAX\u001b[39m\u001b[38;5;124m\"\u001b[39m:\n\u001b[0;32m----> 9\u001b[0m     \u001b[38;5;28meval\u001b[39m, best_move \u001b[38;5;241m=\u001b[39m MINIMAX(_world, start, goal, opponent, role, \u001b[38;5;28;01mTrue\u001b[39;00m, depth\u001b[38;5;241m=\u001b[39mdepth, bad_evaluate_arg\u001b[38;5;241m=\u001b[39mbad_evaluate_arg)\n\u001b[1;32m     10\u001b[0m     new_position \u001b[38;5;241m=\u001b[39m best_move\n\u001b[1;32m     11\u001b[0m \u001b[38;5;28;01mif\u001b[39;00m _world[current[\u001b[38;5;241m0\u001b[39m]][current[\u001b[38;5;241m1\u001b[39m]] \u001b[38;5;241m!=\u001b[39m \u001b[38;5;124m'\u001b[39m\u001b[38;5;124m❤️\u001b[39m\u001b[38;5;124m'\u001b[39m \u001b[38;5;129;01mand\u001b[39;00m _world[current[\u001b[38;5;241m0\u001b[39m]][current[\u001b[38;5;241m1\u001b[39m]] \u001b[38;5;241m!=\u001b[39m \u001b[38;5;124m'\u001b[39m\u001b[38;5;124m👾\u001b[39m\u001b[38;5;124m'\u001b[39m \u001b[38;5;129;01mand\u001b[39;00m _world[current[\u001b[38;5;241m0\u001b[39m]][current[\u001b[38;5;241m1\u001b[39m]] \u001b[38;5;241m!=\u001b[39m \u001b[38;5;124m'\u001b[39m\u001b[38;5;124m🤖\u001b[39m\u001b[38;5;124m'\u001b[39m \u001b[38;5;129;01mand\u001b[39;00m _world[current[\u001b[38;5;241m0\u001b[39m]][current[\u001b[38;5;241m1\u001b[39m]] \u001b[38;5;241m!=\u001b[39m \u001b[38;5;124m'\u001b[39m\u001b[38;5;124m🟩\u001b[39m\u001b[38;5;124m'\u001b[39m \u001b[38;5;129;01mand\u001b[39;00m _world[current[\u001b[38;5;241m0\u001b[39m]][current[\u001b[38;5;241m1\u001b[39m]] \u001b[38;5;241m!=\u001b[39m \u001b[38;5;124m'\u001b[39m\u001b[38;5;124m🟥\u001b[39m\u001b[38;5;124m'\u001b[39m:\n",
      "\u001b[0;31mNameError\u001b[0m: name 'MINIMAX' is not defined"
     ]
    }
   ],
   "source": [
    "# Add your arguments, but this should ONLY print out a nice view of the world\n",
    "result_4 = run_robot_game(world, good_start, bad_start, goal, MOVES, 'MINIMAX', 4, 'MINIMAX', 4 )"
   ]
  },
  {
   "cell_type": "markdown",
   "metadata": {},
   "source": [
    "| Question | Comment | \n",
    "|------|------|\n",
    "|Did knowledge of '🤖' trying to get to '❤️' help '👾'? | YOUR BRIEF COMMENTS HERE |"
   ]
  },
  {
   "cell_type": "markdown",
   "metadata": {},
   "source": [
    "## Before You Submit...\n",
    "\n",
    "1. Re-read the general instructions provided above, and\n",
    "2. Hit \"Kernel\"->\"Restart & Run All\"."
   ]
  },
  {
   "cell_type": "code",
   "execution_count": null,
   "metadata": {},
   "outputs": [],
   "source": []
  },
  {
   "cell_type": "code",
   "execution_count": null,
   "metadata": {},
   "outputs": [],
   "source": []
  }
 ],
 "metadata": {
  "kernelspec": {
   "display_name": "Python 3 (ipykernel)",
   "language": "python",
   "name": "python3"
  },
  "language_info": {
   "codemirror_mode": {
    "name": "ipython",
    "version": 3
   },
   "file_extension": ".py",
   "mimetype": "text/x-python",
   "name": "python",
   "nbconvert_exporter": "python",
   "pygments_lexer": "ipython3",
   "version": "3.11.7"
  },
  "toc": {
   "colors": {
    "hover_highlight": "#DAA520",
    "navigate_num": "#000000",
    "navigate_text": "#333333",
    "running_highlight": "#FF0000",
    "selected_highlight": "#FFD700",
    "sidebar_border": "#EEEEEE",
    "wrapper_background": "#FFFFFF"
   },
   "moveMenuLeft": true,
   "nav_menu": {
    "height": "192px",
    "width": "252px"
   },
   "navigate_menu": true,
   "number_sections": true,
   "sideBar": true,
   "threshold": 4,
   "toc_cell": false,
   "toc_section_display": "block",
   "toc_window_display": false,
   "widenNotebook": false
  }
 },
 "nbformat": 4,
 "nbformat_minor": 4
}
