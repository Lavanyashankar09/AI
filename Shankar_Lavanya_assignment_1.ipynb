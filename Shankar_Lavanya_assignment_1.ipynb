{
 "cells": [
  {
   "cell_type": "markdown",
   "metadata": {},
   "source": [
    "# Artificial Intelligence\n",
    "# 464/664\n",
    "# Assignment #1\n",
    "\n",
    "## General Directions for this Assignment\n",
    "\n",
    "00. We're using a Jupyter Notebook environment (tutorial available here: https://jupyter-notebook-beginner-guide.readthedocs.io/en/latest/what_is_jupyter.html),\n",
    "01. Read the entire notebook before beginning your work, \n",
    "02. Output format should be exactly as requested, \n",
    "03. Each helper function should be preceeded by documentation (Markdown cell), \n",
    "04. Each helper function should be followed by three assert-style unit tests,\n",
    "05. No comments in the code; anything worth mentioning should be included in the documentation,\n",
    "06. Keep functions to 20 lines or less (including space so do not add any),\n",
    "07. Do not use classes, \n",
    "08. Use descriptive variable names,\n",
    "09. Functions should do only one thing,\n",
    "10. Check submission deadline on Gradescope, \n",
    "11. Rename the file to Last_First_assignment_1, \n",
    "12. Submit your notebook (as .ipynb, not PDF) using Gradescope, and\n",
    "13. Do not submit any other files.\n",
    "\n",
    "## Before You Submit...\n",
    "\n",
    "1. Re-read the general instructions provided above, and\n",
    "2. Hit \"Kernel\"->\"Restart & Run All\"."
   ]
  },
  {
   "cell_type": "markdown",
   "metadata": {},
   "source": [
    "## The World\n",
    "\n",
    "A `List of Lists` is used to represent the world. Cells marked as '⬛' are obstacles in the world and are not traversable."
   ]
  },
  {
   "cell_type": "code",
   "execution_count": 1,
   "metadata": {},
   "outputs": [],
   "source": [
    "world = [\n",
    "['⬜','⬜','⬜','⬜','⬜','⬜','⬜','⬜','⬜','⬜','⬜','⬜','⬜','⬜','⬜','⬜','⬜','⬜','⬜','⬜','⬜'],\n",
    "['⬜','⬜','⬜','⬜','⬜','⬜','⬜','⬜','⬜','⬜','⬜','⬜','⬜','⬜','⬜','⬜','⬜','⬜','⬜','⬜','⬜'],\n",
    "['⬜','⬜','⬜','⬜','⬜','⬜','⬜','⬜','⬜','⬜','⬜','⬜','⬜','⬜','⬜','⬜','⬜','⬜','⬜','⬜','⬜'],\n",
    "['⬜','⬜','⬜','⬜','⬜','⬜','⬜','⬜','⬜','⬜','⬜','⬜','⬜','⬜','⬜','⬜','⬜','⬜','⬜','⬜','⬜'],\n",
    "['⬜','⬜','⬜','⬜','⬜','⬜','⬜','⬜','⬜','⬜','⬜','⬜','⬜','⬜','⬜','⬜','⬜','⬜','⬜','⬜','⬜'],\n",
    "['⬜','⬜','⬜','⬜','⬜','⬜','⬜','⬜','⬜','⬜','⬜','⬜','⬜','⬜','⬜','⬜','⬜','⬜','⬜','⬜','⬜'],\n",
    "['⬜','⬜','⬜','⬜','⬜','⬜','⬜','⬜','⬜','⬜','⬜','⬜','⬜','⬜','⬜','⬜','⬜','⬜','⬜','⬜','⬜'],\n",
    "['⬜','⬜','⬜','⬜','⬜','⬜','⬜','⬜','⬜','⬜','⬜','⬜','⬜','⬜','⬜','⬜','⬜','⬜','⬜','⬜','⬜'],\n",
    "['⬜','⬜','⬜','⬜','⬜','⬜','⬜','⬜','⬜','⬜','⬜','⬜','⬜','⬜','⬜','⬜','⬜','⬜','⬜','⬜','⬜'],\n",
    "['⬜','⬜','⬜','⬜','⬜','⬜','⬜','⬜','⬜','⬛','⬛','⬛','⬜','⬜','⬜','⬜','⬜','⬜','⬜','⬜','⬜'],\n",
    "['⬜','⬜','⬜','⬜','⬜','⬜','⬜','⬜','⬜','⬛','⬛','⬛','⬜','⬜','⬜','⬜','⬜','⬜','⬜','⬜','⬜'],\n",
    "['⬜','⬜','⬜','⬜','⬜','⬜','⬜','⬜','⬜','⬛','⬛','⬛','⬜','⬜','⬜','⬜','⬜','⬜','⬜','⬜','⬜'],\n",
    "['⬜','⬜','⬜','⬜','⬜','⬜','⬜','⬜','⬜','⬜','⬜','⬜','⬜','⬜','⬜','⬜','⬜','⬜','⬜','⬜','⬜'],\n",
    "['⬜','⬜','⬜','⬜','⬜','⬜','⬜','⬜','⬜','⬜','⬜','⬜','⬜','⬜','⬜','⬜','⬜','⬜','⬜','⬜','⬜'],\n",
    "['⬜','⬜','⬜','⬜','⬜','⬜','⬜','⬜','⬜','⬜','⬜','⬜','⬜','⬜','⬜','⬜','⬜','⬜','⬜','⬜','⬜'],\n",
    "['⬜','⬜','⬜','⬜','⬜','⬜','⬜','⬜','⬜','⬜','⬜','⬜','⬜','⬜','⬜','⬜','⬜','⬜','⬜','⬜','⬜'],\n",
    "['⬜','⬜','⬜','⬜','⬜','⬜','⬜','⬜','⬜','⬜','⬜','⬜','⬜','⬜','⬜','⬜','⬜','⬜','⬜','⬜','⬜'],\n",
    "['⬜','⬜','⬜','⬜','⬜','⬜','⬜','⬜','⬜','⬜','⬜','⬜','⬜','⬜','⬜','⬜','⬜','⬜','⬜','⬜','⬜'],\n",
    "['⬜','⬜','⬜','⬜','⬜','⬜','⬜','⬜','⬜','⬜','⬜','⬜','⬜','⬜','⬜','⬜','⬜','⬜','⬜','⬜','⬜'],\n",
    "['⬜','⬜','⬜','⬜','⬜','⬜','⬜','⬜','⬜','⬜','⬜','⬜','⬜','⬜','⬜','⬜','⬜','⬜','⬜','⬜','⬜'],\n",
    "['⬜','⬜','⬜','⬜','⬜','⬜','⬜','⬜','⬜','⬜','⬜','⬜','⬜','⬜','⬜','⬜','⬜','⬜','⬜','⬜','⬜']]"
   ]
  },
  {
   "cell_type": "code",
   "execution_count": 2,
   "metadata": {},
   "outputs": [
    {
     "name": "stdout",
     "output_type": "stream",
     "text": [
      "⬜⬜⬜⬜⬜⬜⬜⬜⬜⬜⬜⬜⬜⬜⬜⬜⬜⬜⬜⬜⬜\n",
      "⬜⬜⬜⬜⬜⬜⬜⬜⬜⬜⬜⬜⬜⬜⬜⬜⬜⬜⬜⬜⬜\n",
      "⬜⬜⬜⬜⬜⬜⬜⬜⬜⬜⬜⬜⬜⬜⬜⬜⬜⬜⬜⬜⬜\n",
      "⬜⬜⬜⬜⬜⬜⬜⬜⬜⬜⬜⬜⬜⬜⬜⬜⬜⬜⬜⬜⬜\n",
      "⬜⬜⬜⬜⬜⬜⬜⬜⬜⬜⬜⬜⬜⬜⬜⬜⬜⬜⬜⬜⬜\n",
      "⬜⬜⬜⬜⬜⬜⬜⬜⬜⬜⬜⬜⬜⬜⬜⬜⬜⬜⬜⬜⬜\n",
      "⬜⬜⬜⬜⬜⬜⬜⬜⬜⬜⬜⬜⬜⬜⬜⬜⬜⬜⬜⬜⬜\n",
      "⬜⬜⬜⬜⬜⬜⬜⬜⬜⬜⬜⬜⬜⬜⬜⬜⬜⬜⬜⬜⬜\n",
      "⬜⬜⬜⬜⬜⬜⬜⬜⬜⬜⬜⬜⬜⬜⬜⬜⬜⬜⬜⬜⬜\n",
      "⬜⬜⬜⬜⬜⬜⬜⬜⬜⬛⬛⬛⬜⬜⬜⬜⬜⬜⬜⬜⬜\n",
      "⬜⬜⬜⬜⬜⬜⬜⬜⬜⬛⬛⬛⬜⬜⬜⬜⬜⬜⬜⬜⬜\n",
      "⬜⬜⬜⬜⬜⬜⬜⬜⬜⬛⬛⬛⬜⬜⬜⬜⬜⬜⬜⬜⬜\n",
      "⬜⬜⬜⬜⬜⬜⬜⬜⬜⬜⬜⬜⬜⬜⬜⬜⬜⬜⬜⬜⬜\n",
      "⬜⬜⬜⬜⬜⬜⬜⬜⬜⬜⬜⬜⬜⬜⬜⬜⬜⬜⬜⬜⬜\n",
      "⬜⬜⬜⬜⬜⬜⬜⬜⬜⬜⬜⬜⬜⬜⬜⬜⬜⬜⬜⬜⬜\n",
      "⬜⬜⬜⬜⬜⬜⬜⬜⬜⬜⬜⬜⬜⬜⬜⬜⬜⬜⬜⬜⬜\n",
      "⬜⬜⬜⬜⬜⬜⬜⬜⬜⬜⬜⬜⬜⬜⬜⬜⬜⬜⬜⬜⬜\n",
      "⬜⬜⬜⬜⬜⬜⬜⬜⬜⬜⬜⬜⬜⬜⬜⬜⬜⬜⬜⬜⬜\n",
      "⬜⬜⬜⬜⬜⬜⬜⬜⬜⬜⬜⬜⬜⬜⬜⬜⬜⬜⬜⬜⬜\n",
      "⬜⬜⬜⬜⬜⬜⬜⬜⬜⬜⬜⬜⬜⬜⬜⬜⬜⬜⬜⬜⬜\n",
      "⬜⬜⬜⬜⬜⬜⬜⬜⬜⬜⬜⬜⬜⬜⬜⬜⬜⬜⬜⬜⬜\n"
     ]
    }
   ],
   "source": [
    "# A nicer view of the world, without commas and brackets\n",
    "for row in world:\n",
    "    print(\"\".join(row))"
   ]
  },
  {
   "cell_type": "markdown",
   "metadata": {},
   "source": [
    "## Robot\n",
    "\n",
    "Our robot '🤖' starts at the bottom left and can either move up, down, left, or right. It's looking for the '❤️' in the world. "
   ]
  },
  {
   "cell_type": "code",
   "execution_count": 3,
   "metadata": {},
   "outputs": [],
   "source": [
    "MOVES = [(-1,0), (0,1), (1,0), (0,-1)] # Up Right Down Left"
   ]
  },
  {
   "cell_type": "code",
   "execution_count": 4,
   "metadata": {},
   "outputs": [],
   "source": [
    "start = (len(world)-1, 0)"
   ]
  },
  {
   "cell_type": "code",
   "execution_count": 5,
   "metadata": {},
   "outputs": [],
   "source": [
    "goal = (0, len(world)-1)"
   ]
  },
  {
   "cell_type": "code",
   "execution_count": 6,
   "metadata": {},
   "outputs": [],
   "source": [
    "# Update the world with this information\n",
    "world[start[0]][start[1]] = '🤖'\n",
    "world[goal[0]][goal[1]] = '❤️'"
   ]
  },
  {
   "cell_type": "code",
   "execution_count": 7,
   "metadata": {},
   "outputs": [
    {
     "name": "stdout",
     "output_type": "stream",
     "text": [
      "⬜⬜⬜⬜⬜⬜⬜⬜⬜⬜⬜⬜⬜⬜⬜⬜⬜⬜⬜⬜❤️\n",
      "⬜⬜⬜⬜⬜⬜⬜⬜⬜⬜⬜⬜⬜⬜⬜⬜⬜⬜⬜⬜⬜\n",
      "⬜⬜⬜⬜⬜⬜⬜⬜⬜⬜⬜⬜⬜⬜⬜⬜⬜⬜⬜⬜⬜\n",
      "⬜⬜⬜⬜⬜⬜⬜⬜⬜⬜⬜⬜⬜⬜⬜⬜⬜⬜⬜⬜⬜\n",
      "⬜⬜⬜⬜⬜⬜⬜⬜⬜⬜⬜⬜⬜⬜⬜⬜⬜⬜⬜⬜⬜\n",
      "⬜⬜⬜⬜⬜⬜⬜⬜⬜⬜⬜⬜⬜⬜⬜⬜⬜⬜⬜⬜⬜\n",
      "⬜⬜⬜⬜⬜⬜⬜⬜⬜⬜⬜⬜⬜⬜⬜⬜⬜⬜⬜⬜⬜\n",
      "⬜⬜⬜⬜⬜⬜⬜⬜⬜⬜⬜⬜⬜⬜⬜⬜⬜⬜⬜⬜⬜\n",
      "⬜⬜⬜⬜⬜⬜⬜⬜⬜⬜⬜⬜⬜⬜⬜⬜⬜⬜⬜⬜⬜\n",
      "⬜⬜⬜⬜⬜⬜⬜⬜⬜⬛⬛⬛⬜⬜⬜⬜⬜⬜⬜⬜⬜\n",
      "⬜⬜⬜⬜⬜⬜⬜⬜⬜⬛⬛⬛⬜⬜⬜⬜⬜⬜⬜⬜⬜\n",
      "⬜⬜⬜⬜⬜⬜⬜⬜⬜⬛⬛⬛⬜⬜⬜⬜⬜⬜⬜⬜⬜\n",
      "⬜⬜⬜⬜⬜⬜⬜⬜⬜⬜⬜⬜⬜⬜⬜⬜⬜⬜⬜⬜⬜\n",
      "⬜⬜⬜⬜⬜⬜⬜⬜⬜⬜⬜⬜⬜⬜⬜⬜⬜⬜⬜⬜⬜\n",
      "⬜⬜⬜⬜⬜⬜⬜⬜⬜⬜⬜⬜⬜⬜⬜⬜⬜⬜⬜⬜⬜\n",
      "⬜⬜⬜⬜⬜⬜⬜⬜⬜⬜⬜⬜⬜⬜⬜⬜⬜⬜⬜⬜⬜\n",
      "⬜⬜⬜⬜⬜⬜⬜⬜⬜⬜⬜⬜⬜⬜⬜⬜⬜⬜⬜⬜⬜\n",
      "⬜⬜⬜⬜⬜⬜⬜⬜⬜⬜⬜⬜⬜⬜⬜⬜⬜⬜⬜⬜⬜\n",
      "⬜⬜⬜⬜⬜⬜⬜⬜⬜⬜⬜⬜⬜⬜⬜⬜⬜⬜⬜⬜⬜\n",
      "⬜⬜⬜⬜⬜⬜⬜⬜⬜⬜⬜⬜⬜⬜⬜⬜⬜⬜⬜⬜⬜\n",
      "🤖⬜⬜⬜⬜⬜⬜⬜⬜⬜⬜⬜⬜⬜⬜⬜⬜⬜⬜⬜⬜\n"
     ]
    }
   ],
   "source": [
    "# A nicer view of the world, without commas and brackets\n",
    "for row in world:\n",
    "    print(\"\".join(row))"
   ]
  },
  {
   "cell_type": "markdown",
   "metadata": {},
   "source": [
    "## Search\n",
    "\n",
    "\n",
    "A general search pseudocode is as follows:\n",
    "\n",
    "```\n",
    "search:\n",
    "    Initialize frontier (and add start node)\n",
    "    Initialize explored (and add start node)\n",
    "    \n",
    "    while frontier is not empy:\n",
    "        \n",
    "        node <- remove a node from frontier\n",
    "        \n",
    "        if node is goal, return\n",
    "        \n",
    "        for each child of node:\n",
    "            add child to frontier (based on some conditions)\n",
    "            add child to explored\n",
    "```\n",
    "\n",
    "Now, this is the general idea. How we deal with the frontier (implementation, queue, priority queue, stack, list, dictionary, and so on) and some of the conditions is going to differentiate whether this leads to breadth-first, depth-first, or A$^*$. \n",
    "\n",
    "\n",
    "Note. The frontier basically keeps track of what will be considered next. \n",
    "\n",
    "\n",
    "Note. We're looking for a path to goal (Problems 1-3 below) and not just an ability to find it; you'll need some bookkepping code to be able to keep track of how to construct the resulting path. "
   ]
  },
  {
   "cell_type": "markdown",
   "metadata": {},
   "source": [
    "## Important Note\n",
    "When implementing, consider the priority of MOVES when creating children for a node in the tree.  \n",
    "MOVES = [(-1,0), (0,1), (1,0), (0,-1)] (which is Up Right Down Left)  \n",
    "In order to get the correct outputs, stick to this priority when creating the tree."
   ]
  },
  {
   "cell_type": "markdown",
   "metadata": {},
   "source": [
    "## Problem #1\n",
    "\n",
    "\n",
    "Implement a breadth-first search function to help the robot find a path to goal. \n",
    "\n",
    "\n",
    "The output should look like the output above (nicer view of the world), with the following changes:\n",
    "\n",
    "\n",
    "* Replace a '⬜' with '🟨' if that cell was ever placed in the frontier, \n",
    "* Replace '⬜' with '🟩' to indicate the path found by the robot, and\n",
    "* '🤖', '❤️', and '⬛' are not replaced."
   ]
  },
  {
   "cell_type": "markdown",
   "metadata": {},
   "source": [
    "Consider the following starting tree for reference:\n",
    "<img src=\"BFS_Tree.png\" alt=\"BFS_Tree\" width=\"500\"/>  \n",
    "  \n",
    "    \n",
    "Since it is BFS, it will keep traverse every node in the level while opening their children and then move to the next level."
   ]
  },
  {
   "cell_type": "markdown",
   "metadata": {},
   "source": [
    "Consider this starting output for this problem:  \n",
    "<img src=\"BFS_Output.png\" alt=\"BFS_Output\" width=\"275\"/>"
   ]
  },
  {
   "cell_type": "code",
   "execution_count": 8,
   "metadata": {},
   "outputs": [],
   "source": [
    "# feel free to add imports below this cell. See example below:"
   ]
  },
  {
   "cell_type": "code",
   "execution_count": 9,
   "metadata": {},
   "outputs": [],
   "source": [
    "from copy import deepcopy\n",
    "import math"
   ]
  },
  {
   "cell_type": "code",
   "execution_count": 10,
   "metadata": {},
   "outputs": [],
   "source": [
    "# feel free to add helper functions below this cell. See example below:"
   ]
  },
  {
   "cell_type": "markdown",
   "metadata": {},
   "source": [
    "<a id=\"my_helper_function\"></a>\n",
    "## my_helper_function (Start a helper funtion with a Markdown cell like this)\n",
    "\n",
    "This function does nothing. It serves to demonstrate how your helper functions should be documented. They should start with a description like this Markdown cell. Next, write your function in a Code cell. Finally, end with three assert-style unit tests. \n",
    "\n",
    "* **arg_1** int: length of world\n",
    "* **arg_2** int: height of world\n",
    "\n",
    "\n",
    "**returns** \n",
    "\n",
    "* **area** int: the number of locations in the world"
   ]
  },
  {
   "cell_type": "code",
   "execution_count": 11,
   "metadata": {},
   "outputs": [],
   "source": [
    "def my_helper_function(arg_1, arg_2):\n",
    "    return arg_1 * arg_2"
   ]
  },
  {
   "cell_type": "code",
   "execution_count": 12,
   "metadata": {},
   "outputs": [],
   "source": [
    "assert my_helper_function(1,1) == 1 #if these pass, you should see no output\n",
    "assert my_helper_function(1,0) == 0 \n",
    "assert my_helper_function(len(world),len(world[0])) == 21*21 # end helper function three asserts"
   ]
  },
  {
   "cell_type": "markdown",
   "metadata": {},
   "source": [
    "<a id=\"get_adjacent_cells\"></a>\n",
    "## get_adjacent_cells\n",
    "\n",
    "Retrieves adjacent cells from a current position, filtering out cells that are out of bounds or blocked.\n",
    "\n",
    "* **current_pos**: the current position in the grid\n",
    "* **map_grid**: the grid representing the map\n",
    "* **move_directions**: the allowable directions for movement\n",
    "\n",
    "**returns** a list of valid adjacent cells."
   ]
  },
  {
   "cell_type": "code",
   "execution_count": 13,
   "metadata": {},
   "outputs": [],
   "source": [
    "def get_adjacent_cells(current_pos, map_grid, move_directions):\n",
    "    cur_x, cur_y = current_pos\n",
    "    adjacent_cells = []\n",
    "    for delta_x, delta_y in move_directions:\n",
    "        next_x, next_y = cur_x + delta_x, cur_y + delta_y\n",
    "        if 0 <= next_x < len(map_grid) and 0 <= next_y < len(map_grid[0]) and map_grid[next_x][next_y] != '⬛':\n",
    "            adjacent_cells.append((next_x, next_y))\n",
    "    return adjacent_cells"
   ]
  },
  {
   "cell_type": "code",
   "execution_count": 14,
   "metadata": {},
   "outputs": [],
   "source": [
    "test_world = [['⬜', '⬛'],\n",
    "              ['⬜', '⬜']]\n",
    "test_moves = [(-1, 0), (1, 0), (0, -1), (0, 1)]  \n",
    "assert get_adjacent_cells((0, 0), test_world, test_moves) == [(1, 0)]\n",
    "assert get_adjacent_cells((1, 0), test_world, test_moves) == [(0, 0), (1, 1)]\n",
    "assert get_adjacent_cells((1, 1), test_world, test_moves) == [(1, 0)]"
   ]
  },
  {
   "cell_type": "markdown",
   "metadata": {},
   "source": [
    "<a id=\"build_path\"></a>\n",
    "## build_path\n",
    "\n",
    "Constructs the path from the start point to the end point using the predecessors.\n",
    "\n",
    "* **predecessors**: a mapping from each cell to its predecessor\n",
    "* **start_point**: the starting location\n",
    "* **end_point**: the destination location\n",
    "\n",
    "**returns** a list representing the path from the start point to the end point."
   ]
  },
  {
   "cell_type": "code",
   "execution_count": 15,
   "metadata": {},
   "outputs": [],
   "source": [
    "def build_path(predecessors, start_point, end_point):\n",
    "    route = [end_point]\n",
    "    while route[-1] != start_point:\n",
    "        route.append(predecessors[route[-1]])\n",
    "    return route[::-1]"
   ]
  },
  {
   "cell_type": "code",
   "execution_count": 16,
   "metadata": {},
   "outputs": [],
   "source": [
    "test_predecessors_1 = {\n",
    "    (0, 0): None,\n",
    "    (0, 1): (0, 0),\n",
    "    (1, 1): (0, 1),\n",
    "    (2, 1): (1, 1),\n",
    "    (2, 2): (2, 1)\n",
    "}\n",
    "test_start_1 = (0, 0)\n",
    "test_end_1 = (2, 2)\n",
    "expected_path_1 = [(0, 0), (0, 1), (1, 1), (2, 1), (2, 2)]\n",
    "assert build_path(test_predecessors_1, test_start_1, test_end_1) == expected_path_1\n",
    "\n",
    "test_predecessors_2 = {(2, 1): (1, 1), (1, 1): (0, 1), (0, 1): (0, 0)}\n",
    "test_start_2 = (0, 0)\n",
    "test_end_2 = (2, 1)\n",
    "test_expected_path_2 = [(0, 0), (0, 1), (1, 1), (2, 1)]\n",
    "test_result_2 = build_path(test_predecessors_2, test_start_2, test_end_2)\n",
    "assert test_result_2 == test_expected_path_2\n",
    "\n",
    "test_predecessors_3 = {(1, 0): (0, 0), (0, 1): (0, 0),\n",
    "                       (2, 0): (1, 0), (1, 1): (0, 1),\n",
    "                       (3, 0): (2, 0), (2, 1): (1, 1),\n",
    "                       (3, 1): (2, 1)}\n",
    "test_start_3 = (0, 0)\n",
    "test_end_3 = (3, 1)\n",
    "test_expected_path_3 = [(0, 0), (0, 1), (1, 1), (2, 1), (3, 1)]\n",
    "test_result_3 = build_path(test_predecessors_3, test_start_3, test_end_3)\n",
    "assert test_result_3 == test_expected_path_3"
   ]
  },
  {
   "cell_type": "markdown",
   "metadata": {},
   "source": [
    "<a id=\"show\"></a>\n",
    "## show\n",
    "\n",
    "Displays the grid with the current path, explored cells, and special markers for the start and end points.\n",
    "\n",
    "* **grid**: the map to be displayed\n",
    "* **route**: the path from start to end\n",
    "* **explored**: the cells that have been visited\n",
    "* **start_point**: the starting location\n",
    "* **end_point**: the goal location\n",
    "\n",
    "**returns** None (but prints the grid with markers for the start point '🤖', goal '❤️', path '🟩', and visited cells '🟨')."
   ]
  },
  {
   "cell_type": "code",
   "execution_count": 17,
   "metadata": {},
   "outputs": [],
   "source": [
    "def show(grid, route, explored, start_point, end_point):\n",
    "    for row_index, row in enumerate(grid):\n",
    "        row_str = ''\n",
    "        for col_index, cell in enumerate(row):\n",
    "            current_position = (row_index, col_index)\n",
    "            if current_position == start_point:\n",
    "                row_str += '🤖'\n",
    "            elif current_position == end_point:\n",
    "                row_str += '❤️'\n",
    "            elif current_position in route:\n",
    "                row_str += '🟩'\n",
    "            elif current_position in explored:\n",
    "                row_str += '🟨'\n",
    "            else:\n",
    "                row_str += cell\n",
    "        print(row_str)"
   ]
  },
  {
   "cell_type": "code",
   "execution_count": 18,
   "metadata": {},
   "outputs": [
    {
     "name": "stdout",
     "output_type": "stream",
     "text": [
      "🤖🟩🟨\n",
      "🟨🟩🟨\n",
      "⬜️🟩❤️\n",
      "❤️🟩\n",
      "🟨🤖\n",
      "⬜️⬜️\n",
      "🟩🟩❤️\n",
      "🟩🟨⬜️\n",
      "🤖🟨⬜️\n"
     ]
    }
   ],
   "source": [
    "test_grid_1 = [['⬜️', '⬜️', '⬜️'], ['⬜️', '⬜️', '⬜️'], ['⬜️', '⬜️', '⬜️']]\n",
    "test_start_1 = (0, 0)\n",
    "test_end_1 = (2, 2)\n",
    "test_route_1 = [(0, 0), (0, 1), (1, 1), (2, 1), (2, 2)]\n",
    "test_explored_1 = set([(1, 0), (1, 2), (0, 2)])\n",
    "show(test_grid_1, test_route_1, test_explored_1, test_start_1, test_end_1)\n",
    "\n",
    "test_grid_2 = [['⬜️', '⬜️'], ['⬜️', '⬜️'], ['⬜️', '⬜️']]\n",
    "test_start_2 = (1, 1)\n",
    "test_end_2 = (0, 0)\n",
    "test_route_2 = [(1, 1), (0, 1), (0, 0)]\n",
    "test_explored_2 = set([(1, 0), (0, 1)])\n",
    "show(test_grid_2, test_route_2, test_explored_2, test_start_2, test_end_2)\n",
    "\n",
    "test_grid_3 = [['⬜️', '⬛️', '⬜️'], ['⬜️', '⬜️', '⬜️'], ['⬜️', '⬜️', '⬜️']]\n",
    "test_start_3 = (2, 0)\n",
    "test_end_3 = (0, 2)\n",
    "test_route_3 = [(2, 0), (1, 0), (0, 0), (0, 1), (0, 2)]\n",
    "test_explored_3 = set([(1, 1), (2, 1)])\n",
    "show(test_grid_3, test_route_3, test_explored_3, test_start_3, test_end_3)"
   ]
  },
  {
   "cell_type": "markdown",
   "metadata": {},
   "source": [
    "<a id=\"breadth_first_search\"></a>\n",
    "## breadth_first_search\n",
    "\n",
    "Description of your function. Keep function to 20 lines or less with no comments and expressive variable names.\n",
    "\n",
    "* **world**: the search area\n",
    "* **start**: the starting location of the robot\n",
    "* **goal**: the goal location in the search area\n",
    "* **moves**: the allowable moves in the search area\n",
    "\n",
    "\n",
    "**returns** None (but prints out a nice view of the world and replaces appropriate cells using '🟨' and '🟩')."
   ]
  },
  {
   "cell_type": "code",
   "execution_count": 19,
   "metadata": {},
   "outputs": [],
   "source": [
    "def breadth_first_search(grid, start_point, end_point, directions):\n",
    "    queue = [start_point]\n",
    "    explored = set([start_point])\n",
    "    predecessors = {start_point: None}\n",
    "    while queue:\n",
    "        current = queue.pop(0)      \n",
    "        if current == end_point:\n",
    "            route = build_path(predecessors, start_point, end_point)\n",
    "            show(grid, route, explored, start_point, end_point)\n",
    "            return route\n",
    "        for neighbor in get_adjacent_cells(current, grid, directions):\n",
    "            if neighbor not in explored:\n",
    "                queue.append(neighbor)\n",
    "                explored.add(neighbor)\n",
    "                predecessors[neighbor] = current\n",
    "    show(grid, None, explored, start_point, end_point)\n",
    "    return None"
   ]
  },
  {
   "cell_type": "code",
   "execution_count": 20,
   "metadata": {},
   "outputs": [
    {
     "name": "stdout",
     "output_type": "stream",
     "text": [
      "🟩🟩🟩🟩🟩🟩🟩🟩🟩🟩🟩🟩🟩🟩🟩🟩🟩🟩🟩🟩❤️\n",
      "🟩🟨🟨🟨🟨🟨🟨🟨🟨🟨🟨🟨🟨🟨🟨🟨🟨🟨🟨🟨🟨\n",
      "🟩🟨🟨🟨🟨🟨🟨🟨🟨🟨🟨🟨🟨🟨🟨🟨🟨🟨🟨🟨🟨\n",
      "🟩🟨🟨🟨🟨🟨🟨🟨🟨🟨🟨🟨🟨🟨🟨🟨🟨🟨🟨🟨🟨\n",
      "🟩🟨🟨🟨🟨🟨🟨🟨🟨🟨🟨🟨🟨🟨🟨🟨🟨🟨🟨🟨🟨\n",
      "🟩🟨🟨🟨🟨🟨🟨🟨🟨🟨🟨🟨🟨🟨🟨🟨🟨🟨🟨🟨🟨\n",
      "🟩🟨🟨🟨🟨🟨🟨🟨🟨🟨🟨🟨🟨🟨🟨🟨🟨🟨🟨🟨🟨\n",
      "🟩🟨🟨🟨🟨🟨🟨🟨🟨🟨🟨🟨🟨🟨🟨🟨🟨🟨🟨🟨🟨\n",
      "🟩🟨🟨🟨🟨🟨🟨🟨🟨🟨🟨🟨🟨🟨🟨🟨🟨🟨🟨🟨🟨\n",
      "🟩🟨🟨🟨🟨🟨🟨🟨🟨⬛⬛⬛🟨🟨🟨🟨🟨🟨🟨🟨🟨\n",
      "🟩🟨🟨🟨🟨🟨🟨🟨🟨⬛⬛⬛🟨🟨🟨🟨🟨🟨🟨🟨🟨\n",
      "🟩🟨🟨🟨🟨🟨🟨🟨🟨⬛⬛⬛🟨🟨🟨🟨🟨🟨🟨🟨🟨\n",
      "🟩🟨🟨🟨🟨🟨🟨🟨🟨🟨🟨🟨🟨🟨🟨🟨🟨🟨🟨🟨🟨\n",
      "🟩🟨🟨🟨🟨🟨🟨🟨🟨🟨🟨🟨🟨🟨🟨🟨🟨🟨🟨🟨🟨\n",
      "🟩🟨🟨🟨🟨🟨🟨🟨🟨🟨🟨🟨🟨🟨🟨🟨🟨🟨🟨🟨🟨\n",
      "🟩🟨🟨🟨🟨🟨🟨🟨🟨🟨🟨🟨🟨🟨🟨🟨🟨🟨🟨🟨🟨\n",
      "🟩🟨🟨🟨🟨🟨🟨🟨🟨🟨🟨🟨🟨🟨🟨🟨🟨🟨🟨🟨🟨\n",
      "🟩🟨🟨🟨🟨🟨🟨🟨🟨🟨🟨🟨🟨🟨🟨🟨🟨🟨🟨🟨🟨\n",
      "🟩🟨🟨🟨🟨🟨🟨🟨🟨🟨🟨🟨🟨🟨🟨🟨🟨🟨🟨🟨🟨\n",
      "🟩🟨🟨🟨🟨🟨🟨🟨🟨🟨🟨🟨🟨🟨🟨🟨🟨🟨🟨🟨🟨\n",
      "🤖🟨🟨🟨🟨🟨🟨🟨🟨🟨🟨🟨🟨🟨🟨🟨🟨🟨🟨🟨🟨\n"
     ]
    }
   ],
   "source": [
    "result_1 = breadth_first_search(world, start, goal, MOVES) # Add your arguments, but this should ONLY print out a nice view of the world"
   ]
  },
  {
   "cell_type": "markdown",
   "metadata": {},
   "source": [
    "## Problem #2\n",
    "\n",
    "\n",
    "Implement a depth-first search function to help the robot find a path to goal. \n",
    "\n",
    "\n",
    "The output guidelines are similar to Problem #1. "
   ]
  },
  {
   "cell_type": "markdown",
   "metadata": {},
   "source": [
    "Consider the following starting tree for reference:\n",
    "<img src=\"DFS_Tree.png\" alt=\"DFS_Tree\" width=\"500\"/>  \n",
    "  \n",
    "\n",
    "Since it is DFS, it will open the first child of the node until it can."
   ]
  },
  {
   "cell_type": "markdown",
   "metadata": {},
   "source": [
    "Consider this starting output for this problem:  \n",
    "<img src=\"DFS_Output.png\" alt=\"DFS_Output\" width=\"275\"/>"
   ]
  },
  {
   "cell_type": "code",
   "execution_count": 21,
   "metadata": {},
   "outputs": [],
   "source": [
    "# feel free to add helper functions below this cell."
   ]
  },
  {
   "cell_type": "markdown",
   "metadata": {},
   "source": [
    "<a id=\"depth_first_search\"></a>\n",
    "## depth_first_search\n",
    "\n",
    "Description of your function..."
   ]
  },
  {
   "cell_type": "code",
   "execution_count": 22,
   "metadata": {},
   "outputs": [],
   "source": [
    "def get_adjacent_cells(current_pos, map_grid, move_directions):\n",
    "    cur_x, cur_y = current_pos\n",
    "    adjacent_cells = []\n",
    "    for delta_x, delta_y in move_directions:\n",
    "        next_x, next_y = cur_x + delta_x, cur_y + delta_y\n",
    "        if (0 <= next_x < len(map_grid) and 0 <= next_y < len(map_grid[0]) and\n",
    "            map_grid[next_x][next_y] != '⬛'):\n",
    "            adjacent_cells.append((next_x, next_y))\n",
    "    return adjacent_cells\n",
    "\n",
    "def build_path(predecessors, start_point, end_point):\n",
    "    if end_point not in predecessors:\n",
    "        return []  # No path found\n",
    "    route = [end_point]\n",
    "    while route[-1] != start_point:\n",
    "        route.append(predecessors[route[-1]])\n",
    "    return route[::-1]\n",
    "\n",
    "def depth_first_search(grid, start_position, goal_position, directions):\n",
    "    # Immediate check if start is the same as goal\n",
    "    if start_position == goal_position:\n",
    "        show(grid, [start_position], [], start_position, goal_position)\n",
    "        return\n",
    "    \n",
    "    stack = [start_position]\n",
    "    predecessors = {start_position: None}\n",
    "    \n",
    "    while stack:\n",
    "        current_position = stack.pop()\n",
    "        \n",
    "        if current_position == goal_position:\n",
    "            path = build_path(predecessors, start_position, goal_position)\n",
    "            show(grid, path, stack, start_position, goal_position)\n",
    "            return\n",
    "        \n",
    "        for neighbor in get_adjacent_cells(current_position, grid, directions):\n",
    "            if neighbor not in predecessors:\n",
    "                predecessors[neighbor] = current_position\n",
    "                stack.append(neighbor)\n",
    "    \n",
    "    show(grid, None, stack, start_position, goal_position)\n"
   ]
  },
  {
   "cell_type": "code",
   "execution_count": 23,
   "metadata": {},
   "outputs": [
    {
     "name": "stdout",
     "output_type": "stream",
     "text": [
      "⬜⬜⬜⬜⬜⬜⬜⬜⬜⬜⬜⬜⬜⬜⬜⬜⬜🟩🟩🟩❤️\n",
      "🟨🟨🟨🟨🟨🟨🟨🟨🟨🟨🟨🟨🟨🟨🟨🟨⬜🟩🟨🟨🟨\n",
      "🟩🟩🟩🟩🟩🟩🟩🟩🟩🟩🟩🟩🟩🟩🟩🟩🟨🟩🟩🟩🟩\n",
      "🟩🟨🟨🟨🟨🟨🟨🟨🟨🟨🟨🟨🟨🟨🟨🟩🟩🟨🟨🟨🟩\n",
      "🟩🟩🟩🟩🟩🟩🟩🟩🟩🟩🟩🟩🟩🟩🟩🟨🟩🟩🟩🟩🟩\n",
      "🟨🟨🟨🟨🟨🟨🟨🟨🟨🟨🟨🟨🟨🟨🟩🟩🟨🟨🟨🟨🟨\n",
      "🟩🟩🟩🟩🟩🟩🟩🟩🟩🟩🟩🟩🟩🟩🟨🟩🟩🟩🟩🟩🟩\n",
      "🟩🟨🟨🟨🟨🟨🟨🟨🟨🟨🟨🟨🟨🟩🟩🟨🟨🟨🟨🟨🟩\n",
      "🟩🟩🟩🟩🟩🟩🟩🟩🟩🟩🟩🟩🟩🟨🟩🟩🟩🟩🟩🟩🟩\n",
      "⬜🟨🟨🟨🟨🟨🟨🟨🟨⬛⬛⬛🟩🟨🟨🟨🟨🟨🟨🟨🟨\n",
      "⬜⬜⬜⬜⬜⬜⬜⬜⬜⬛⬛⬛🟩🟩🟩🟩🟩🟩🟩🟩🟩\n",
      "🟨🟨🟨🟨🟨🟨🟨🟨🟨⬛⬛⬛🟨🟨🟨🟨🟨🟨🟨🟨🟩\n",
      "🟩🟩🟩🟩🟩🟩🟩🟩🟩🟩🟩🟩🟩🟩🟩🟩🟩🟩🟩🟩🟩\n",
      "🟩🟨🟨🟨🟨🟨🟨🟨🟨🟨🟨🟨🟨🟨🟨🟨🟨🟨🟨🟨🟨\n",
      "🟩🟩🟩🟩🟩🟩🟩🟩🟩🟩🟩🟩🟩🟩🟩🟩🟩🟩🟩🟩🟩\n",
      "🟨🟨🟨🟨🟨🟨🟨🟨🟨🟨🟨🟨🟨🟨🟨🟨🟨🟨🟨🟨🟩\n",
      "🟩🟩🟩🟩🟩🟩🟩🟩🟩🟩🟩🟩🟩🟩🟩🟩🟩🟩🟩🟩🟩\n",
      "🟩🟨🟨🟨🟨🟨🟨🟨🟨🟨🟨🟨🟨🟨🟨🟨🟨🟨🟨🟨🟨\n",
      "🟩🟩🟩🟩🟩🟩🟩🟩🟩🟩🟩🟩🟩🟩🟩🟩🟩🟩🟩🟩🟩\n",
      "🟨🟨🟨🟨🟨🟨🟨🟨🟨🟨🟨🟨🟨🟨🟨🟨🟨🟨🟨🟨🟩\n",
      "🤖🟩🟩🟩🟩🟩🟩🟩🟩🟩🟩🟩🟩🟩🟩🟩🟩🟩🟩🟩🟩\n"
     ]
    }
   ],
   "source": [
    "result_2 = depth_first_search(world, start, goal, MOVES) # Add your arguments, but this should ONLY print out a nice view of the world"
   ]
  },
  {
   "cell_type": "markdown",
   "metadata": {},
   "source": [
    "## Problem #3\n",
    "\n",
    "\n",
    "Implement an A$^*$ search function to help the robot find the optimal path to goal. For this problem, when calculating the accumulated path cost assume that every step the robot takes costs 1 unit. Use straight-line distance as your heuristic.\n",
    "\n",
    "\n",
    "The output guidelines are similar to Problems 1 and 2. "
   ]
  },
  {
   "cell_type": "code",
   "execution_count": 24,
   "metadata": {},
   "outputs": [],
   "source": [
    "# Feel free to add helper functions below this cell."
   ]
  },
  {
   "cell_type": "markdown",
   "metadata": {},
   "source": [
    "<a id=\"euclidean_distance\"></a>\n",
    "## euclidean_distance\n",
    "\n",
    "Calculate the Euclidean distance between two points.\n",
    "\n",
    "* **arg_1** tuple: `(x1, y1)` - Coordinates of the first point.\n",
    "* **arg_2** tuple: `(x2, y2)` - Coordinates of the second point.\n",
    "\n",
    "**returns** \n",
    "\n",
    "* **distance** float: The Euclidean distance between the two points.\n"
   ]
  },
  {
   "cell_type": "code",
   "execution_count": 25,
   "metadata": {},
   "outputs": [],
   "source": [
    "def euclidean_distance(pos, goal):\n",
    "    return math.sqrt((pos[0] - goal[0])**2 + (pos[1] - goal[1])**2)"
   ]
  },
  {
   "cell_type": "code",
   "execution_count": 26,
   "metadata": {},
   "outputs": [],
   "source": [
    "assert euclidean_distance((0, 0), (3, 4)) == 5.0  \n",
    "assert euclidean_distance((1, 1), (1, 1)) == 0.0  \n",
    "assert euclidean_distance((1, 2), (4, 6)) == 5.0"
   ]
  },
  {
   "cell_type": "markdown",
   "metadata": {},
   "source": [
    "<a id=\"update_node\"></a>\n",
    "## update_node \n",
    "\n",
    "Update the node's cost and priority in the A* search algorithm.\n",
    "\n",
    "* **arg_1** tuple: `next_node` - Coordinates of the node to be updated.\n",
    "* **arg_2** tuple: `current_node` - Coordinates of the current node.\n",
    "* **arg_3** tuple: `goal` - Coordinates of the goal node.\n",
    "* **arg_4** dict: `cost_map` - Map of node coordinates to their cost.\n",
    "* **arg_5** list: `priority_queue` - List of nodes with their priority.\n",
    "* **arg_6** set: `visited_set` - Set of visited nodes.\n",
    "* **arg_7** dict: `parent_map` - Map of node coordinates to their parent node.\n",
    "\n",
    "**returns** \n",
    "\n",
    "* **None**\n"
   ]
  },
  {
   "cell_type": "code",
   "execution_count": 27,
   "metadata": {},
   "outputs": [],
   "source": [
    "def update_node(next_node, current_node, goal, cost_map, priority_queue, visited_set, parent_map):\n",
    "    cost_to_next = cost_map[current_node] + 1\n",
    "    if next_node not in cost_map or cost_to_next < cost_map[next_node]:\n",
    "        cost_map[next_node] = cost_to_next\n",
    "        priority = cost_to_next + euclidean_distance(next_node, goal)\n",
    "        priority_queue.append((priority, next_node))\n",
    "        priority_queue.sort()\n",
    "        if next_node not in visited_set:\n",
    "            visited_set.add(next_node)\n",
    "            parent_map[next_node] = current_node"
   ]
  },
  {
   "cell_type": "code",
   "execution_count": 28,
   "metadata": {},
   "outputs": [],
   "source": [
    "destination = (8, 8)\n",
    "cost_map = {(0, 0): 0}\n",
    "priority_queue = []\n",
    "visited_nodes = set()\n",
    "path_trace = {}\n",
    "\n",
    "update_node((1, 1), (0, 0), destination, cost_map, priority_queue, visited_nodes, path_trace)\n",
    "assert cost_map[(1, 1)] == 1\n",
    "assert (1, 1) in visited_nodes\n",
    "assert path_trace[(1, 1)] == (0, 0)\n",
    "\n",
    "cost_map[(2, 1)] = 3\n",
    "update_node((2, 1), (1, 1), destination, cost_map, priority_queue, visited_nodes, path_trace)\n",
    "assert cost_map[(2, 1)] == 2\n",
    "assert path_trace[(2, 1)] == (1, 1)\n",
    "\n",
    "priority_queue = []\n",
    "update_node((3, 1), (2, 1), destination, cost_map, priority_queue, visited_nodes, path_trace)\n",
    "assert len(priority_queue) == 1"
   ]
  },
  {
   "cell_type": "markdown",
   "metadata": {},
   "source": [
    "<a id=\"a_star_search\"></a>\n",
    "## a_star_search\n",
    "\n",
    "This function performs an A* search algorithm to find the shortest path from a start node to a goal node on a grid. The function maintains a priority queue for exploring nodes based on their estimated cost, updates nodes using the `update_node` function, and displays the final path and visited nodes.\n",
    "\n",
    "* **arg_1** list of list of int: `grid` - A 2D grid representing the world where each cell has a cost.\n",
    "* **arg_2** tuple of int: `start` - The starting coordinates (row, column).\n",
    "* **arg_3** tuple of int: `goal` - The goal coordinates (row, column).\n",
    "* **arg_4** list of tuple of int: `moves` - Possible moves from each cell, e.g., [(0, 1), (1, 0), (0, -1), (-1, 0)].\n",
    "\n",
    "**returns** \n",
    "\n",
    "* **None** - Displays the world with the path and visited nodes.\n"
   ]
  },
  {
   "cell_type": "code",
   "execution_count": 29,
   "metadata": {},
   "outputs": [],
   "source": [
    "def a_star_search(grid, start, goal, moves):\n",
    "    priority_queue = [(euclidean_distance(start, goal), start)]\n",
    "    parent_map, cost_map, visited_set = {start: None}, {start: 0}, set()\n",
    "    while priority_queue:\n",
    "        _, current_node = priority_queue.pop(0)\n",
    "        if current_node == goal:\n",
    "            path = build_path(parent_map, start, goal)\n",
    "            show(grid, path, visited_set, start, goal)\n",
    "            return\n",
    "        for neighbor in get_adjacent_cells(current_node, grid, moves):\n",
    "            if neighbor not in parent_map:\n",
    "                update_node(neighbor, current_node, goal, cost_map, priority_queue, visited_set, parent_map)\n",
    "    show(grid, None, priority_queue, start, goal)"
   ]
  },
  {
   "cell_type": "code",
   "execution_count": 30,
   "metadata": {},
   "outputs": [
    {
     "name": "stdout",
     "output_type": "stream",
     "text": [
      "🟨🟨🟨🟨🟨🟨🟨🟨🟨🟨🟨🟨🟨🟨🟨🟨🟨🟨🟨🟩❤️\n",
      "🟨🟨🟨🟨🟨🟨🟨🟨🟨🟨🟨🟨🟨🟨🟨🟨🟨🟨🟩🟩🟨\n",
      "🟨🟨🟨🟨🟨🟨🟨🟨🟨🟨🟨🟨🟨🟨🟨🟨🟨🟩🟩🟨🟨\n",
      "🟨🟨🟨🟨🟨🟨🟨🟨🟨🟨🟨🟨🟨🟨🟨🟨🟩🟩🟨🟨🟨\n",
      "🟨🟨🟨🟨🟨🟨🟨🟨🟨🟨🟨🟨🟨🟨🟨🟩🟩🟨🟨🟨🟨\n",
      "🟨🟨🟨🟨🟨🟨🟨🟨🟨🟨🟨🟨🟨🟨🟩🟩🟨🟨🟨🟨🟨\n",
      "🟨🟨🟨🟨🟨🟨🟨🟨🟨🟨🟨🟨🟨🟩🟩🟨🟨🟨🟨🟨🟨\n",
      "🟨🟨🟨🟨🟨🟨🟨🟨🟨🟨🟨🟨🟩🟩🟨🟨🟨🟨🟨🟨🟨\n",
      "🟨🟨🟨🟨🟨🟨🟨🟨🟩🟩🟩🟩🟩🟨🟨🟨🟨🟨🟨🟨🟨\n",
      "🟨🟨🟨🟨🟨🟨🟨🟨🟩⬛⬛⬛🟨🟨🟨🟨🟨🟨🟨🟨🟨\n",
      "🟨🟨🟨🟨🟨🟨🟨🟨🟩⬛⬛⬛🟨🟨🟨🟨🟨🟨🟨🟨🟨\n",
      "🟨🟨🟨🟨🟨🟨🟨🟨🟩⬛⬛⬛🟨🟨🟨🟨🟨🟨🟨🟨🟨\n",
      "🟨🟨🟨🟨🟨🟨🟨🟩🟩🟨🟨🟨🟨🟨🟨🟨🟨🟨🟨🟨🟨\n",
      "🟨🟨🟨🟨🟨🟨🟩🟩🟨🟨🟨🟨🟨🟨🟨🟨🟨🟨🟨🟨🟨\n",
      "🟨🟨🟨🟨🟨🟩🟩🟨🟨🟨🟨🟨🟨🟨🟨🟨🟨🟨🟨🟨🟨\n",
      "🟨🟨🟨🟨🟩🟩🟨🟨🟨🟨🟨🟨🟨🟨🟨🟨🟨🟨🟨🟨🟨\n",
      "🟨🟨🟨🟩🟩🟨🟨🟨🟨🟨🟨🟨🟨🟨🟨🟨🟨🟨🟨🟨🟨\n",
      "🟨🟨🟩🟩🟨🟨🟨🟨🟨🟨🟨🟨🟨🟨🟨🟨🟨🟨🟨🟨🟨\n",
      "🟨🟩🟩🟨🟨🟨🟨🟨🟨🟨🟨🟨🟨🟨🟨🟨🟨🟨🟨🟨🟨\n",
      "🟩🟩🟨🟨🟨🟨🟨🟨🟨🟨🟨🟨🟨🟨🟨🟨🟨🟨🟨🟨🟨\n",
      "🤖🟨🟨🟨🟨🟨🟨🟨🟨🟨🟨🟨🟨🟨🟨🟨🟨🟨🟨🟨🟨\n"
     ]
    }
   ],
   "source": [
    "result_3 = a_star_search(world, start, goal, MOVES) # Add your arguments, but this should ONLY print out a nice view of the world"
   ]
  },
  {
   "cell_type": "markdown",
   "metadata": {},
   "source": [
    "## Problem #4\n",
    "\n",
    "\n",
    "We're going to swap the start and goal positions and re-run the breadth-first and depth-first search algorithms.\n",
    "\n",
    "\n",
    "Fill out the table below with brief comments. "
   ]
  },
  {
   "cell_type": "code",
   "execution_count": 31,
   "metadata": {},
   "outputs": [],
   "source": [
    "start,goal=goal,start"
   ]
  },
  {
   "cell_type": "code",
   "execution_count": 32,
   "metadata": {},
   "outputs": [
    {
     "name": "stdout",
     "output_type": "stream",
     "text": [
      "🟨🟨🟨🟨🟨🟨🟨🟨🟨🟨🟨🟨🟨🟨🟨🟨🟨🟨🟨🟨🤖\n",
      "🟨🟨🟨🟨🟨🟨🟨🟨🟨🟨🟨🟨🟨🟨🟨🟨🟨🟨🟨🟨🟩\n",
      "🟨🟨🟨🟨🟨🟨🟨🟨🟨🟨🟨🟨🟨🟨🟨🟨🟨🟨🟨🟨🟩\n",
      "🟨🟨🟨🟨🟨🟨🟨🟨🟨🟨🟨🟨🟨🟨🟨🟨🟨🟨🟨🟨🟩\n",
      "🟨🟨🟨🟨🟨🟨🟨🟨🟨🟨🟨🟨🟨🟨🟨🟨🟨🟨🟨🟨🟩\n",
      "🟨🟨🟨🟨🟨🟨🟨🟨🟨🟨🟨🟨🟨🟨🟨🟨🟨🟨🟨🟨🟩\n",
      "🟨🟨🟨🟨🟨🟨🟨🟨🟨🟨🟨🟨🟨🟨🟨🟨🟨🟨🟨🟨🟩\n",
      "🟨🟨🟨🟨🟨🟨🟨🟨🟨🟨🟨🟨🟨🟨🟨🟨🟨🟨🟨🟨🟩\n",
      "🟨🟨🟨🟨🟨🟨🟨🟨🟨🟨🟨🟨🟨🟨🟨🟨🟨🟨🟨🟨🟩\n",
      "🟨🟨🟨🟨🟨🟨🟨🟨🟨⬛⬛⬛🟨🟨🟨🟨🟨🟨🟨🟨🟩\n",
      "🟨🟨🟨🟨🟨🟨🟨🟨🟨⬛⬛⬛🟨🟨🟨🟨🟨🟨🟨🟨🟩\n",
      "🟨🟨🟨🟨🟨🟨🟨🟨🟨⬛⬛⬛🟨🟨🟨🟨🟨🟨🟨🟨🟩\n",
      "🟨🟨🟨🟨🟨🟨🟨🟨🟨🟨🟨🟨🟨🟨🟨🟨🟨🟨🟨🟨🟩\n",
      "🟨🟨🟨🟨🟨🟨🟨🟨🟨🟨🟨🟨🟨🟨🟨🟨🟨🟨🟨🟨🟩\n",
      "🟨🟨🟨🟨🟨🟨🟨🟨🟨🟨🟨🟨🟨🟨🟨🟨🟨🟨🟨🟨🟩\n",
      "🟨🟨🟨🟨🟨🟨🟨🟨🟨🟨🟨🟨🟨🟨🟨🟨🟨🟨🟨🟨🟩\n",
      "🟨🟨🟨🟨🟨🟨🟨🟨🟨🟨🟨🟨🟨🟨🟨🟨🟨🟨🟨🟨🟩\n",
      "🟨🟨🟨🟨🟨🟨🟨🟨🟨🟨🟨🟨🟨🟨🟨🟨🟨🟨🟨🟨🟩\n",
      "🟨🟨🟨🟨🟨🟨🟨🟨🟨🟨🟨🟨🟨🟨🟨🟨🟨🟨🟨🟨🟩\n",
      "🟨🟨🟨🟨🟨🟨🟨🟨🟨🟨🟨🟨🟨🟨🟨🟨🟨🟨🟨🟨🟩\n",
      "❤️🟩🟩🟩🟩🟩🟩🟩🟩🟩🟩🟩🟩🟩🟩🟩🟩🟩🟩🟩🟩\n"
     ]
    }
   ],
   "source": [
    "result_4a = breadth_first_search(world, start, goal, MOVES) # Add your arguments, but this should ONLY print out a nice view of the world"
   ]
  },
  {
   "cell_type": "code",
   "execution_count": 33,
   "metadata": {},
   "outputs": [
    {
     "name": "stdout",
     "output_type": "stream",
     "text": [
      "🟩🟩🟩🟩🟩🟩🟩🟩🟩🟩🟩🟩🟩🟩🟩🟩🟩🟩🟩🟩🤖\n",
      "🟩🟨🟨🟨🟨🟨🟨🟨🟨🟨🟨🟨🟨🟨🟨🟨🟨🟨🟨🟨🟨\n",
      "🟩🟨⬜⬜⬜⬜⬜⬜⬜⬜⬜⬜⬜⬜⬜⬜⬜⬜⬜⬜⬜\n",
      "🟩🟨⬜⬜⬜⬜⬜⬜⬜⬜⬜⬜⬜⬜⬜⬜⬜⬜⬜⬜⬜\n",
      "🟩🟨⬜⬜⬜⬜⬜⬜⬜⬜⬜⬜⬜⬜⬜⬜⬜⬜⬜⬜⬜\n",
      "🟩🟨⬜⬜⬜⬜⬜⬜⬜⬜⬜⬜⬜⬜⬜⬜⬜⬜⬜⬜⬜\n",
      "🟩🟨⬜⬜⬜⬜⬜⬜⬜⬜⬜⬜⬜⬜⬜⬜⬜⬜⬜⬜⬜\n",
      "🟩🟨⬜⬜⬜⬜⬜⬜⬜⬜⬜⬜⬜⬜⬜⬜⬜⬜⬜⬜⬜\n",
      "🟩🟨⬜⬜⬜⬜⬜⬜⬜⬜⬜⬜⬜⬜⬜⬜⬜⬜⬜⬜⬜\n",
      "🟩🟨⬜⬜⬜⬜⬜⬜⬜⬛⬛⬛⬜⬜⬜⬜⬜⬜⬜⬜⬜\n",
      "🟩🟨⬜⬜⬜⬜⬜⬜⬜⬛⬛⬛⬜⬜⬜⬜⬜⬜⬜⬜⬜\n",
      "🟩🟨⬜⬜⬜⬜⬜⬜⬜⬛⬛⬛⬜⬜⬜⬜⬜⬜⬜⬜⬜\n",
      "🟩🟨⬜⬜⬜⬜⬜⬜⬜⬜⬜⬜⬜⬜⬜⬜⬜⬜⬜⬜⬜\n",
      "🟩🟨⬜⬜⬜⬜⬜⬜⬜⬜⬜⬜⬜⬜⬜⬜⬜⬜⬜⬜⬜\n",
      "🟩🟨⬜⬜⬜⬜⬜⬜⬜⬜⬜⬜⬜⬜⬜⬜⬜⬜⬜⬜⬜\n",
      "🟩🟨⬜⬜⬜⬜⬜⬜⬜⬜⬜⬜⬜⬜⬜⬜⬜⬜⬜⬜⬜\n",
      "🟩🟨⬜⬜⬜⬜⬜⬜⬜⬜⬜⬜⬜⬜⬜⬜⬜⬜⬜⬜⬜\n",
      "🟩🟨⬜⬜⬜⬜⬜⬜⬜⬜⬜⬜⬜⬜⬜⬜⬜⬜⬜⬜⬜\n",
      "🟩🟨⬜⬜⬜⬜⬜⬜⬜⬜⬜⬜⬜⬜⬜⬜⬜⬜⬜⬜⬜\n",
      "🟩🟨⬜⬜⬜⬜⬜⬜⬜⬜⬜⬜⬜⬜⬜⬜⬜⬜⬜⬜⬜\n",
      "❤️⬜⬜⬜⬜⬜⬜⬜⬜⬜⬜⬜⬜⬜⬜⬜⬜⬜⬜⬜⬜\n"
     ]
    }
   ],
   "source": [
    "result_4b = depth_first_search(world, start, goal, MOVES) # Add your arguments, but this should ONLY print out a nice view of the world"
   ]
  },
  {
   "cell_type": "markdown",
   "metadata": {},
   "source": [
    "| Comparison | Comment | \n",
    "|------|------|\n",
    "|BFS (original positions) vs DFS (original positions)| DFS demonstrated significantly higher efficiency in this scenario. While BFS explored all nodes (indicated by the green color), DFS reached the destination through a more optimal path, resulting in reduced time complexity and a more streamlined solution. |\n",
    "|BFS (original positions) vs BFS (swapped positions) | The performance and exploration pattern of BFS remained consistent in both cases. The only notable difference was the direction of the path traversed, which is an expected outcome when altering start and goal positions. |\n",
    "|DFS (original positions) vs DFS (swapped positions) | DFS exhibited markedly different behavior between the two position configurations. In the original setup, DFS produced a complex, potentially less optimal path. Conversely, with swapped positions, DFS generated a much more straightforward and efficient route, highlighting the algorithm's sensitivity to initial conditions.  |\n"
   ]
  },
  {
   "cell_type": "markdown",
   "metadata": {},
   "source": [
    "## Before You Submit...\n",
    "\n",
    "1. Re-read the general instructions provided above, and\n",
    "2. Hit \"Kernel\"->\"Restart & Run All\"."
   ]
  }
 ],
 "metadata": {
  "kernelspec": {
   "display_name": "Python 3 (ipykernel)",
   "language": "python",
   "name": "python3"
  },
  "language_info": {
   "codemirror_mode": {
    "name": "ipython",
    "version": 3
   },
   "file_extension": ".py",
   "mimetype": "text/x-python",
   "name": "python",
   "nbconvert_exporter": "python",
   "pygments_lexer": "ipython3",
   "version": "3.11.7"
  },
  "toc": {
   "colors": {
    "hover_highlight": "#DAA520",
    "navigate_num": "#000000",
    "navigate_text": "#333333",
    "running_highlight": "#FF0000",
    "selected_highlight": "#FFD700",
    "sidebar_border": "#EEEEEE",
    "wrapper_background": "#FFFFFF"
   },
   "moveMenuLeft": true,
   "nav_menu": {
    "height": "192px",
    "width": "252px"
   },
   "navigate_menu": true,
   "number_sections": true,
   "sideBar": true,
   "threshold": 4,
   "toc_cell": false,
   "toc_section_display": "block",
   "toc_window_display": false,
   "widenNotebook": false
  }
 },
 "nbformat": 4,
 "nbformat_minor": 4
}
